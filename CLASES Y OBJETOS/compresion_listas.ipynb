{
 "cells": [
  {
   "cell_type": "markdown",
   "id": "70856340",
   "metadata": {},
   "source": [
    "La compresion de listas permite crear listas de una manera más elegante y compacta. En lugar de utilizar bucles tradicionales, puedes utilizar la compresión de listas para generar listas de forma más eficiente."
   ]
  },
  {
   "cell_type": "markdown",
   "id": "02acc209",
   "metadata": {},
   "source": [
    "nueva_lista = [expresion for elemento in lista_original]"
   ]
  },
  {
   "cell_type": "markdown",
   "id": "8934521f",
   "metadata": {},
   "source": [
    "# Crear una lista de numeros al cuadrado"
   ]
  },
  {
   "cell_type": "code",
   "execution_count": 3,
   "id": "3ad7d07f",
   "metadata": {},
   "outputs": [
    {
     "name": "stdout",
     "output_type": "stream",
     "text": [
      "[1, 4, 9, 16, 25]\n"
     ]
    }
   ],
   "source": [
    "# Método tradicional con bucle\n",
    "numeros = [1, 2, 3, 4, 5]\n",
    "cuadrados = []\n",
    "\n",
    "for num in numeros:\n",
    "    cuadrados.append(num**2)\n",
    "\n",
    "# Compresión de listas\n",
    "cuadrados = [num**2 for num in numeros]\n",
    "print(cuadrados)"
   ]
  },
  {
   "cell_type": "markdown",
   "id": "aa5df7c4",
   "metadata": {},
   "source": [
    "1. El intérprete de Python recorre cada elemento num en la lista numeros.  \n",
    "2. Para cada num, se evalúa la expresión num**2, es decir, se eleva al cuadrado el valor de num.  \n",
    "3. El resultado de la expresión se agrega a la lista resultante cuadrados.  \n",
    "4. Este proceso se repite para cada elemento num en la lista numeros.  \n",
    "5. Finalmente, se obtiene la lista cuadrados que contiene los cuadrados de los elementos de numeros."
   ]
  },
  {
   "cell_type": "markdown",
   "id": "711f4966",
   "metadata": {},
   "source": [
    "# Filtrar números pares de una lista"
   ]
  },
  {
   "cell_type": "code",
   "execution_count": 4,
   "id": "d54bdd2c",
   "metadata": {},
   "outputs": [
    {
     "name": "stdout",
     "output_type": "stream",
     "text": [
      "[2, 4, 6, 8, 10]\n"
     ]
    }
   ],
   "source": [
    "# Método tradicional con bucle\n",
    "numeros = [1, 2, 3, 4, 5, 6, 7, 8, 9, 10]\n",
    "pares = []\n",
    "\n",
    "for num in numeros:\n",
    "    if num % 2 == 0:\n",
    "        pares.append(num)\n",
    "\n",
    "# Con compresión de listas\n",
    "pares = [num for num in numeros if num % 2 == 0 ]\n",
    "print(pares)"
   ]
  },
  {
   "cell_type": "markdown",
   "id": "1112feda",
   "metadata": {},
   "source": [
    "# Crear una lista de tuplas a partir de dos listas:"
   ]
  },
  {
   "cell_type": "code",
   "execution_count": 6,
   "id": "a11d68bb",
   "metadata": {},
   "outputs": [
    {
     "name": "stdout",
     "output_type": "stream",
     "text": [
      "[('Juan', 25), ('María', 30), ('Carlos', 22)]\n"
     ]
    }
   ],
   "source": [
    "# Método tradicional con bucle\n",
    "nombres = ['Juan', 'María', 'Carlos']\n",
    "edades = [25, 30, 22]\n",
    "personas = []\n",
    "\n",
    "for i in range(len(nombres)):\n",
    "    personas.append((nombres[i], edades[i]))\n",
    "\n",
    "# Con compresión de listas\\n\",\n",
    "personas = [(nombres[i], edades[i]) for i in range(len(nombres))]\n",
    "print(personas)\n"
   ]
  },
  {
   "cell_type": "markdown",
   "id": "545b6855",
   "metadata": {},
   "source": [
    "# Crear una lista con elementos transformados condicionalmente:"
   ]
  },
  {
   "cell_type": "code",
   "execution_count": 7,
   "id": "85780f0e",
   "metadata": {},
   "outputs": [
    {
     "name": "stdout",
     "output_type": "stream",
     "text": [
      "['impar', 'par', 'impar', 'par', 'impar']\n"
     ]
    }
   ],
   "source": [
    "# Método tradicional con bucle\n",
    "numeros = [1, 2, 3, 4, 5]\n",
    "transformados = []\n",
    "\n",
    "for num in numeros:\n",
    "    if num % 2 == 0:\n",
    "        transformados.append('par')\n",
    "    else:\n",
    "        transformados.append('impar')\n",
    "    \n",
    "# Con compresión de listas\\n\",\n",
    "transformados = ['par' if num % 2 == 0 else 'impar' for num in numeros]\n",
    "print(transformados)"
   ]
  }
 ],
 "metadata": {
  "kernelspec": {
   "display_name": "base",
   "language": "python",
   "name": "python3"
  },
  "language_info": {
   "codemirror_mode": {
    "name": "ipython",
    "version": 3
   },
   "file_extension": ".py",
   "mimetype": "text/x-python",
   "name": "python",
   "nbconvert_exporter": "python",
   "pygments_lexer": "ipython3",
   "version": "3.12.9"
  }
 },
 "nbformat": 4,
 "nbformat_minor": 5
}
