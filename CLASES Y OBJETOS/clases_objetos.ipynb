{
 "cells": [
  {
   "cell_type": "markdown",
   "id": "68899455",
   "metadata": {},
   "source": [
    "# HOJA 3A - MANEJO DE CLASES Y OBJETOS "
   ]
  },
  {
   "cell_type": "markdown",
   "id": "01d09d1a",
   "metadata": {},
   "source": [
    "# CLASE PERSONA  \n",
    "Define una clase Persona con atributos como nombre, edad y profesión.  \n",
    "Luego, crea varios objetos de esta clase y muestra su información."
   ]
  },
  {
   "cell_type": "code",
   "execution_count": 1,
   "id": "d4ffcd15",
   "metadata": {},
   "outputs": [
    {
     "name": "stdout",
     "output_type": "stream",
     "text": [
      "Nombre: Juan, Edad: 30, Profesión: Ingeniero\n",
      "Nombre: Christian, Edad: 27, Profesión: Ingeniero\n"
     ]
    }
   ],
   "source": [
    "class Persona:\n",
    "    def __init__(self, nombre, edad, profesion):\n",
    "        self.nombre = nombre\n",
    "        self.edad = edad\n",
    "        self.profesion = profesion\n",
    "\n",
    "persona1 = Persona(\"Juan\", 30, \"Ingeniero\")\n",
    "persona2 = Persona(\"Christian\", 27, \"Ingeniero\")\n",
    "\n",
    "def imprimir_persona(persona):\n",
    "    print(f\"Nombre: {persona.nombre}, Edad: {persona.edad}, Profesión: {persona.profesion}\")\n",
    "\n",
    "imprimir_persona(persona1)\n",
    "imprimir_persona(persona2)"
   ]
  },
  {
   "cell_type": "markdown",
   "id": "70c7da4b",
   "metadata": {},
   "source": [
    "# CALCULADORA BÁSICA  \n",
    "Crea una clase llamada \"Calculadora\" con métodos para sumar, restar, multiplicar y dividir.  \n",
    "Crea objetos de esta clase y realiza algunas operaciones básicas.\n"
   ]
  },
  {
   "cell_type": "code",
   "execution_count": 2,
   "id": "77c6380c",
   "metadata": {},
   "outputs": [
    {
     "name": "stdout",
     "output_type": "stream",
     "text": [
      "Suma: 8\n",
      "Resta: 6\n",
      "Multiplicacion: 12\n",
      "División: 4.0\n",
      "Potencia: 8\n",
      "Raiz cuadrada: 4.0\n"
     ]
    }
   ],
   "source": [
    "class Calculadora:\n",
    "    def __init__(self):\n",
    "        pass\n",
    "\n",
    "    def sumar(self, numero1, numero2):\n",
    "        return numero1 + numero2\n",
    "    \n",
    "    def restar(self, numero1, numero2):\n",
    "        return numero1 - numero2\n",
    "    \n",
    "    def multiplicar(self, numero1, numero2):\n",
    "        return numero1 * numero2\n",
    "\n",
    "    def dividir(self, numero1, numero2):\n",
    "        return numero1 / numero2\n",
    "    \n",
    "    def potencia(self, numero1, numero2):\n",
    "        return numero1 ** numero2\n",
    "\n",
    "    def raiz_cuadrada(self, numero1, numero2):\n",
    "        if numero1 < 0:\n",
    "            raise ValueError(\"No se puede calcular la raíz cuadrada de un número negativo.\")\n",
    "        return numero1 ** (1 / numero2)\n",
    "    \n",
    "sumar = Calculadora().sumar(5, 3)\n",
    "print(f\"Suma: {sumar}\")\n",
    "\n",
    "restar = Calculadora().restar(10, 4)\n",
    "print(f\"Resta: {restar}\")\n",
    "\n",
    "multiplicar = Calculadora().multiplicar(2, 6)\n",
    "print(f\"Multiplicacion: {multiplicar}\")\n",
    "\n",
    "dividir = Calculadora().dividir(8, 2)\n",
    "print(f\"División: {dividir}\")\n",
    "\n",
    "potencia = Calculadora().potencia(2, 3)\n",
    "print(f\"Potencia: {potencia}\")\n",
    "\n",
    "raiz_cuadrada = Calculadora().raiz_cuadrada(16, 2)\n",
    "print(f\"Raiz cuadrada: {raiz_cuadrada}\")\n",
    "\n",
    "\n"
   ]
  },
  {
   "cell_type": "markdown",
   "id": "a10fb42a",
   "metadata": {},
   "source": [
    "# LIBRO  \n",
    "Crea una clase \"Libro\" con atributos como título, autor y año de publicación.  \n",
    "Luego, crea varios objetos Libro y muestra su información."
   ]
  },
  {
   "cell_type": "code",
   "execution_count": null,
   "id": "3027c7c9",
   "metadata": {},
   "outputs": [],
   "source": [
    "class Libro:\n",
    "    def __init__(self, titulo, autor, publicacion):\n",
    "        self.titulo = titulo\n",
    "        self.autor = autor\n",
    "        self.pubblicacion = publicacion\n",
    "\n",
    "libro1 = Libro(\"Juan\", 30, \"Ingeniero\")\n",
    "libro2 = Libro(\"Christian\", 27, \"Ingeniero\")\n",
    "\n",
    "def imprimir_libro(libro):\n",
    "    print(f\"Título: {libro.titulo}, Autor: {libro.autor}, Publicación: {libro.pubblicacion}\")\n",
    "\n",
    "imprimir_libro(libro1)\n",
    "imprimir_libro(libro2)"
   ]
  },
  {
   "cell_type": "markdown",
   "id": "efd3beab",
   "metadata": {},
   "source": [
    "# RECTÁNGULO  \n",
    "Crea una clase \"Rectangulo\" con atributos de longitud y ancho.  \n",
    "Implementa un método para calcular el área y el perímetro del rectángulo."
   ]
  },
  {
   "cell_type": "code",
   "execution_count": null,
   "id": "558e373a",
   "metadata": {},
   "outputs": [],
   "source": [
    "class Rectangulo:\n",
    "    def __init__(self, longitud, ancho):\n",
    "        self.longitud = longitud\n",
    "        self.ancho = ancho\n",
    "    \n",
    "    def area(self):\n",
    "        return self.longitud * self.ancho\n",
    "    \n",
    "    def perimetro(self):\n",
    "        return 2 * (self.longitud + self.ancho)\n",
    "\n",
    "rectangulo1 = Rectangulo(5, 3)\n",
    "rectangulo2 = Rectangulo(10, 4)\n",
    "\n",
    "def imprimir_rectangulo(rectangulo):\n",
    "    print(f\"Longitud: {rectangulo.longitud}, Ancho: {rectangulo.ancho}, Área: {rectangulo.area()}, Perímetro: {rectangulo.perimetro()}\")\n",
    "\n",
    "imprimir_rectangulo(rectangulo1)\n",
    "imprimir_rectangulo(rectangulo2)"
   ]
  },
  {
   "cell_type": "markdown",
   "id": "e4fa2bfb",
   "metadata": {},
   "source": [
    "# DADO  \n",
    "Crea una clase \"Dado\" que simule el lanzamiento de un dado de 6 caras.  \n",
    "Implementa un método para lanzar el dado y mostrar el resultado (quizás te convenga usar el modulo random)."
   ]
  },
  {
   "cell_type": "code",
   "execution_count": null,
   "id": "8946bc81",
   "metadata": {},
   "outputs": [
    {
     "name": "stdout",
     "output_type": "stream",
     "text": [
      "Lanzamiento del dado: 6\n"
     ]
    },
    {
     "data": {
      "text/plain": [
       "'    def lanzar_dado(self):\\n        lanzamiento = random.randint(1, 6)\\n        return lanzamiento\\n    \\ndado1 = Dado()\\nresultado = dado1.lanzar_dado()\\nprint(f\"Lanzamiento del dado: {resultado}\")'"
      ]
     },
     "execution_count": 35,
     "metadata": {},
     "output_type": "execute_result"
    }
   ],
   "source": [
    "import random\n",
    "\n",
    "class Dado:\n",
    "    def __init__(self, caras=6):\n",
    "        self.caras = caras\n",
    "\n",
    "    def lanzar_dado(self):\n",
    "        lanzar_dado = random.randint(1, 6)\n",
    "        return lanzar_dado\n",
    "\n",
    "    def imprimir_lanzamiento(self):\n",
    "        resultado = self.lanzar_dado()\n",
    "        print(f\"Lanzamiento del dado: {resultado}\")\n",
    "\n",
    "dado1 = Dado()\n",
    "dado1.lanzar_dado()\n",
    "dado1.imprimir_lanzamiento()\n",
    "    \n",
    "\n",
    "\"\"\"    def lanzar_dado(self):\n",
    "        lanzamiento = random.randint(1, 6)\n",
    "        return lanzamiento\n",
    "    \n",
    "dado1 = Dado()\n",
    "resultado = dado1.lanzar_dado()\n",
    "print(f\"Lanzamiento del dado: {resultado}\")\"\"\"\n",
    "\n",
    "\n"
   ]
  },
  {
   "cell_type": "markdown",
   "id": "c220ec1e",
   "metadata": {},
   "source": [
    "# COCHE  \n",
    "Crea una clase \"Coche\" con atributos como marca, modelo y año.  \n",
    "Implementa un método para encender el coche y otro para apagarlo (puedes simulae el encendido y apagado con una variable booleana)."
   ]
  },
  {
   "cell_type": "code",
   "execution_count": 39,
   "id": "bddeb1e3",
   "metadata": {},
   "outputs": [
    {
     "name": "stdout",
     "output_type": "stream",
     "text": [
      "Actualmente poseo los siguientes coches: \n",
      "Marca: Hyundai, Modelo: I30 Nline, Año: 2024, Color: Shadow Grey\n",
      "Marca: Hyundai, Modelo: I30 Nline, Año: 2024, Color: Blanco\n",
      "Marca: Hyundai, Modelo: Atos, Año: 2006, Color: Negro\n",
      "Actualmente el coche 1 esta encendido. BRUM BRUM\n",
      "Actualmente el coche 2 esta apagado. NO BRUM BRUM\n",
      "Actualmente el coche 3 esta encendido. BRUM BRUM\n"
     ]
    }
   ],
   "source": [
    "class Coche:\n",
    "    def __init__(self, marca, modelo, anio, color):\n",
    "        self.marca = marca\n",
    "        self.modelo = modelo\n",
    "        self.anio = anio\n",
    "        self.color = color\n",
    "    \n",
    "    def encendido(self):\n",
    "        self.encendido = True\n",
    "\n",
    "    def apagado(self):\n",
    "        self.encendido = False\n",
    "    \n",
    "    def mostrar_informacion(self):\n",
    "        print(f\"Marca: {self.marca}, Modelo: {self.modelo}, Año: {self.anio}, Color: {self.color}\")\n",
    "\n",
    "print(\"Actualmente poseo los siguientes coches: \")\n",
    "\n",
    "coche1 = Coche(\"Hyundai\", \"I30 Nline\", 2024, \"Shadow Grey\")\n",
    "coche1.mostrar_informacion()\n",
    "coche2 = Coche(\"Hyundai\", \"I30 Nline\", 2024, \"Blanco\")\n",
    "coche2.mostrar_informacion()\n",
    "coche3 = Coche(\"Hyundai\", \"Atos\", 2006, \"Negro\")\n",
    "coche3.mostrar_informacion()\n",
    "\n",
    "\n",
    "coche1.encendido()\n",
    "print(\"Actualmente el coche 1 esta encendido. BRUM BRUM\")\n",
    "\n",
    "coche2.apagado()\n",
    "print(f\"Actualmente el coche 2 esta apagado. NO BRUM BRUM\")\n",
    "\n",
    "coche3.encendido()\n",
    "print(f\"Actualmente el coche 3 esta encendido. BRUM BRUM\")\n"
   ]
  }
 ],
 "metadata": {
  "kernelspec": {
   "display_name": "base",
   "language": "python",
   "name": "python3"
  },
  "language_info": {
   "codemirror_mode": {
    "name": "ipython",
    "version": 3
   },
   "file_extension": ".py",
   "mimetype": "text/x-python",
   "name": "python",
   "nbconvert_exporter": "python",
   "pygments_lexer": "ipython3",
   "version": "3.12.9"
  }
 },
 "nbformat": 4,
 "nbformat_minor": 5
}
