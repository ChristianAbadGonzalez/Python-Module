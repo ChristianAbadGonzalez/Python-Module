{
 "cells": [
  {
   "cell_type": "markdown",
   "id": "05b60011",
   "metadata": {},
   "source": [
    "# TRABAJANDO CON DICCIONARIOS"
   ]
  },
  {
   "cell_type": "markdown",
   "id": "05e7cb17",
   "metadata": {},
   "source": [
    "1. Crea un diccionario vacío llamado mi_diccionario"
   ]
  },
  {
   "cell_type": "code",
   "execution_count": 29,
   "id": "ad5c6e12",
   "metadata": {},
   "outputs": [
    {
     "name": "stdout",
     "output_type": "stream",
     "text": [
      "<class 'dict'>\n"
     ]
    }
   ],
   "source": [
    "mi_diccionario = {}\n",
    "print(type(mi_diccionario))"
   ]
  },
  {
   "cell_type": "markdown",
   "id": "9887cb4c",
   "metadata": {},
   "source": [
    "2. Agrega un par clave-valor a \"mi_diccionario\" donde la clave sea \"nombre\" y el valor sea tu nombre. "
   ]
  },
  {
   "cell_type": "code",
   "execution_count": 30,
   "id": "8bb5dda7",
   "metadata": {},
   "outputs": [
    {
     "name": "stdout",
     "output_type": "stream",
     "text": [
      "{'nombre': 'Christian'}\n"
     ]
    }
   ],
   "source": [
    "mi_diccionario[\"nombre\"] = \"Christian\"\n",
    "print(mi_diccionario)"
   ]
  },
  {
   "cell_type": "markdown",
   "id": "f4f4a0ef",
   "metadata": {},
   "source": [
    "3. Accede e imprime el valor asociado con la clave \"nombre\" en “mi_diccionario\""
   ]
  },
  {
   "cell_type": "code",
   "execution_count": 31,
   "id": "444a3103",
   "metadata": {},
   "outputs": [
    {
     "name": "stdout",
     "output_type": "stream",
     "text": [
      "Christian\n"
     ]
    }
   ],
   "source": [
    "print(mi_diccionario[\"nombre\"])"
   ]
  },
  {
   "cell_type": "markdown",
   "id": "6984dc0b",
   "metadata": {},
   "source": [
    "4. Verifica si la clave \"edad\" existe en \"mi_diccionario\". Imprime \"True\" si existe y \"False\" en caso contrario. "
   ]
  },
  {
   "cell_type": "code",
   "execution_count": 32,
   "id": "d52fb327",
   "metadata": {},
   "outputs": [
    {
     "name": "stdout",
     "output_type": "stream",
     "text": [
      "False\n"
     ]
    }
   ],
   "source": [
    "print(\"edad\" in mi_diccionario)"
   ]
  },
  {
   "cell_type": "markdown",
   "id": "8277fc0d",
   "metadata": {},
   "source": [
    "5. Crea un diccionario llamado \"estudiante\" con los siguientes pares clave-valor: \"nombre\" con el nombre del alumno, \"edad\" con su edad y \"materia\" con su materia favorita."
   ]
  },
  {
   "cell_type": "code",
   "execution_count": 33,
   "id": "518d585f",
   "metadata": {},
   "outputs": [],
   "source": [
    "estudiante = {\n",
    "    \"nombre\": \"Christian\",\n",
    "    \"edad\": 26,\n",
    "    \"asignatura\": \"LTAW\"\n",
    "}"
   ]
  },
  {
   "cell_type": "markdown",
   "id": "0a857832",
   "metadata": {},
   "source": [
    "6. Actualiza el valor de la clave \"edad\" en el diccionario \"estudiante\" para reflejar la edad actual de tu amigo."
   ]
  },
  {
   "cell_type": "code",
   "execution_count": 34,
   "id": "297a0b19",
   "metadata": {},
   "outputs": [
    {
     "name": "stdout",
     "output_type": "stream",
     "text": [
      "{'nombre': 'Christian', 'edad': 27, 'asignatura': 'LTAW'}\n"
     ]
    }
   ],
   "source": [
    "estudiante[\"edad\"] = 27\n",
    "print(estudiante)"
   ]
  },
  {
   "cell_type": "markdown",
   "id": "b71ec40d",
   "metadata": {},
   "source": [
    "7. Elimina el par clave-valor con la clave \"materia\" del diccionario \"estudiante\"."
   ]
  },
  {
   "cell_type": "code",
   "execution_count": 35,
   "id": "0f35730c",
   "metadata": {},
   "outputs": [
    {
     "name": "stdout",
     "output_type": "stream",
     "text": [
      "{'nombre': 'Christian', 'edad': 27}\n"
     ]
    }
   ],
   "source": [
    "del estudiante[\"asignatura\"]\n",
    "print(estudiante)"
   ]
  },
  {
   "cell_type": "markdown",
   "id": "c1f35fed",
   "metadata": {},
   "source": [
    "8. Imprime todas las claves en el diccionario \"estudiante\""
   ]
  },
  {
   "cell_type": "code",
   "execution_count": 36,
   "id": "bca6a2f5",
   "metadata": {},
   "outputs": [
    {
     "name": "stdout",
     "output_type": "stream",
     "text": [
      "{'nombre': 'Christian', 'edad': 27}\n"
     ]
    }
   ],
   "source": [
    "print(estudiante)"
   ]
  },
  {
   "cell_type": "markdown",
   "id": "9fac09d6",
   "metadata": {},
   "source": [
    "9. Crea un diccionario llamado \"agenda\" con tres entradas: \n",
    "- \"Juan\" con el valor \"1234567890\", \n",
    "- \"Joana\" con el valor \"9876543210\" \n",
    "- \"Jimena\" con el valor \"5555555555\". "
   ]
  },
  {
   "cell_type": "code",
   "execution_count": 45,
   "id": "170a3c32",
   "metadata": {},
   "outputs": [
    {
     "name": "stdout",
     "output_type": "stream",
     "text": [
      "{'Juan': '1234567890', 'Joana': '9876543210', 'Jimena': '5555555555'}\n"
     ]
    }
   ],
   "source": [
    "agenda = {\n",
    "    \"Juan\": \"1234567890\",\n",
    "    \"Joana\": \"9876543210\",\n",
    "    \"Jimena\": \"5555555555\",\n",
    "}\n",
    "print(agenda)"
   ]
  },
  {
   "cell_type": "markdown",
   "id": "945ca37e",
   "metadata": {},
   "source": [
    "10. Agrega una nueva entrada al diccionario \"agenda\" con la clave \"Julio\" y el valor \"9998887777\""
   ]
  },
  {
   "cell_type": "code",
   "execution_count": 46,
   "id": "1dc7488b",
   "metadata": {},
   "outputs": [
    {
     "name": "stdout",
     "output_type": "stream",
     "text": [
      "{'Juan': '1234567890', 'Joana': '9876543210', 'Jimena': '5555555555', 'Julio': '9998887777'}\n"
     ]
    }
   ],
   "source": [
    "agenda[\"Julio\"] = \"9998887777\"\n",
    "print(agenda)"
   ]
  },
  {
   "cell_type": "markdown",
   "id": "d1ae78f1",
   "metadata": {},
   "source": [
    "11. Imprime el número de entradas (pares clave-valor) en el diccionario \"agenda\"."
   ]
  },
  {
   "cell_type": "code",
   "execution_count": 47,
   "id": "68824669",
   "metadata": {},
   "outputs": [
    {
     "name": "stdout",
     "output_type": "stream",
     "text": [
      "4\n"
     ]
    }
   ],
   "source": [
    "print(len(agenda))"
   ]
  },
  {
   "cell_type": "markdown",
   "id": "67962546",
   "metadata": {},
   "source": [
    "12. Crea una lista llamada \"claves\" que contenga todas las claves del diccionario \"agenda\"."
   ]
  },
  {
   "cell_type": "code",
   "execution_count": 48,
   "id": "ff534300",
   "metadata": {},
   "outputs": [
    {
     "name": "stdout",
     "output_type": "stream",
     "text": [
      "dict_keys(['Juan', 'Joana', 'Jimena', 'Julio'])\n",
      "dict_values(['1234567890', '9876543210', '5555555555', '9998887777'])\n"
     ]
    }
   ],
   "source": [
    "claves = agenda.keys()\n",
    "print(claves)\n",
    "\n",
    "usuarios = agenda.values()\n",
    "print(usuarios)"
   ]
  },
  {
   "cell_type": "markdown",
   "id": "75672e78",
   "metadata": {},
   "source": [
    "13. Verifica si la clave \"Juan\" existe en el diccionario \"agenda\". Imprime \"True\" si existe y \"False\" en caso contrario.\n"
   ]
  },
  {
   "cell_type": "code",
   "execution_count": 49,
   "id": "32f86291",
   "metadata": {},
   "outputs": [
    {
     "name": "stdout",
     "output_type": "stream",
     "text": [
      "True\n"
     ]
    }
   ],
   "source": [
    "print(\"Juan\" in agenda)"
   ]
  },
  {
   "cell_type": "markdown",
   "id": "c7a21e8b",
   "metadata": {},
   "source": [
    "14. Elimina la entrada con la clave “Jimena”.\n"
   ]
  },
  {
   "cell_type": "code",
   "execution_count": 50,
   "id": "854a3f86",
   "metadata": {},
   "outputs": [
    {
     "name": "stdout",
     "output_type": "stream",
     "text": [
      "{'Juan': '1234567890', 'Joana': '9876543210', 'Julio': '9998887777'}\n"
     ]
    }
   ],
   "source": [
    "agenda.pop(\"Jimena\")\n",
    "print(agenda)"
   ]
  },
  {
   "cell_type": "markdown",
   "id": "ec5bc1a7",
   "metadata": {},
   "source": [
    "15. Utiliza un bucle for para iterar sobre todas las claves en el diccionario \"agenda\" e imprime cada par clave-valor en el formato \"Nombre: Número”.\n"
   ]
  },
  {
   "cell_type": "code",
   "execution_count": 53,
   "id": "19e5ead8",
   "metadata": {},
   "outputs": [
    {
     "name": "stdout",
     "output_type": "stream",
     "text": [
      "Juan: 1234567890\n",
      "Joana: 9876543210\n",
      "Julio: 9998887777\n"
     ]
    }
   ],
   "source": [
    "for clave, valor in agenda.items():\n",
    "    print(clave + \": \" + valor)"
   ]
  },
  {
   "cell_type": "markdown",
   "id": "77d1f5d4",
   "metadata": {},
   "source": [
    "16. Utiliza el método \"get()\" para obtener el valor asociado con la clave \"Juan\" en el diccionario \"agenda\". Si la clave no existe, imprime \"Clave no encontrada”.\n"
   ]
  },
  {
   "cell_type": "code",
   "execution_count": 54,
   "id": "05a9da8b",
   "metadata": {},
   "outputs": [
    {
     "name": "stdout",
     "output_type": "stream",
     "text": [
      "1234567890\n"
     ]
    }
   ],
   "source": [
    "valor_juan = agenda.get(\"Juan\", \"Clave no encontrada\")\n",
    "print(valor_juan)"
   ]
  },
  {
   "cell_type": "markdown",
   "id": "54d26285",
   "metadata": {},
   "source": [
    "17. Borra todas las entradas del diccionario “agenda”."
   ]
  },
  {
   "cell_type": "code",
   "execution_count": 55,
   "id": "d9d78a86",
   "metadata": {},
   "outputs": [
    {
     "name": "stdout",
     "output_type": "stream",
     "text": [
      "{'Juan': '1234567890', 'Joana': '9876543210', 'Julio': '9998887777'}\n",
      "{}\n"
     ]
    }
   ],
   "source": [
    "print(agenda)\n",
    "agenda.clear()\n",
    "print(agenda)"
   ]
  },
  {
   "cell_type": "markdown",
   "id": "c13e1978",
   "metadata": {},
   "source": [
    "# LISTAS DE DICCIONARIOS"
   ]
  },
  {
   "cell_type": "markdown",
   "id": "874df655",
   "metadata": {},
   "source": [
    "18. Crea una lista llamada \"estudiantes\" que contenga dos diccionarios. Cada diccionario representa a un estudiante y tiene las claves \"nombre\" y \"edad\" con sus respectivos valores.  \n",
    "Recorre la lista e imprime el nombre y edad de cada estudiante.\n"
   ]
  },
  {
   "cell_type": "code",
   "execution_count": 6,
   "id": "cd1d4b5b",
   "metadata": {},
   "outputs": [
    {
     "name": "stdout",
     "output_type": "stream",
     "text": [
      "El estudiante es: Christian cuya edad es: 27\n",
      "El estudiante es: Juan cuya edad es: 28\n"
     ]
    }
   ],
   "source": [
    "\"\"\"\n",
    "estudiantes = {\n",
    "    \"estudiante1\": {\n",
    "        \"Nombre\": \"Christian\",\n",
    "        \"Edad\": \"27\",\n",
    "    },\n",
    "    \"estudiante2\": {\n",
    "        \"Nombre\": \"Juan\",\n",
    "        \"Edad\": \"28\",\n",
    "    }\n",
    "}\n",
    "print(estudiantes)\n",
    "\"\"\"\n",
    "estudiantes = [\n",
    "    {\"Nombre\": \"Christian\", \"Edad\": \"27\"},\n",
    "    {\"Nombre\": \"Juan\", \"Edad\": \"28\"},\n",
    "\n",
    "]\n",
    "\n",
    "for estudiante in estudiantes:\n",
    "    nombre = estudiante[\"Nombre\"]\n",
    "    edad = estudiante[\"Edad\"]\n",
    "    print(f\"El estudiante es:\", nombre, \"cuya edad es:\", edad)"
   ]
  },
  {
   "cell_type": "markdown",
   "id": "84570620",
   "metadata": {},
   "source": [
    "19. Agrega un nuevo estudiante a la lista \"estudiantes\" utilizando un diccionario con las mismas claves \"nombre\" y \"edad\". Imprime la lista actualizada.\n"
   ]
  },
  {
   "cell_type": "code",
   "execution_count": 9,
   "id": "e82920c8",
   "metadata": {},
   "outputs": [
    {
     "name": "stdout",
     "output_type": "stream",
     "text": [
      "[{'Nombre': 'Christian', 'Edad': '27'}, {'Nombre': 'Juan', 'Edad': '28'}, {'Nombre': 'Alfredo', 'Edad': '30'}]\n"
     ]
    }
   ],
   "source": [
    "estudiantes.append(\n",
    "    {\"Nombre\": \"Alfredo\", \"Edad\": \"30\"},\n",
    ")\n",
    "\n",
    "print(estudiantes)"
   ]
  },
  {
   "cell_type": "markdown",
   "id": "1cb27d87",
   "metadata": {},
   "source": [
    "20. Elimina el segundo estudiante de la lista \"estudiantes\". Imprime la lista actualizada."
   ]
  },
  {
   "cell_type": "code",
   "execution_count": 11,
   "id": "50492ae6",
   "metadata": {},
   "outputs": [
    {
     "name": "stdout",
     "output_type": "stream",
     "text": [
      "[{'Nombre': 'Christian', 'Edad': '27'}, {'Nombre': 'Alfredo', 'Edad': '30'}]\n"
     ]
    }
   ],
   "source": [
    "del estudiantes[1]\n",
    "\n",
    "print(estudiantes)"
   ]
  },
  {
   "cell_type": "markdown",
   "id": "852fc489",
   "metadata": {},
   "source": [
    "21. Actualiza la edad del primer estudiante en la lista \"estudiantes\" a un nuevo valor. Imprime la lista actualizada"
   ]
  },
  {
   "cell_type": "code",
   "execution_count": 13,
   "id": "22af8f0a",
   "metadata": {},
   "outputs": [
    {
     "name": "stdout",
     "output_type": "stream",
     "text": [
      "[{'Nombre': 'Christian', 'Edad': '26'}, {'Nombre': 'Alfredo', 'Edad': '30'}]\n"
     ]
    }
   ],
   "source": [
    "estudiantes[0][\"Edad\"] = \"26\"\n",
    "\n",
    "print(estudiantes)"
   ]
  },
  {
   "cell_type": "markdown",
   "id": "cc8fb588",
   "metadata": {},
   "source": [
    "# ANIDAMIENTO DE DICCIONARIOS"
   ]
  },
  {
   "cell_type": "markdown",
   "id": "a43ebf0c",
   "metadata": {},
   "source": [
    "22. Crea un diccionario llamado \"productos\" que contenga dos entradas. Cada entrada representa un producto y tiene a su vez las claves \"nombre\" y \"precio\" con sus respectivos valores.  \n",
    "Recorre el diccionario e imprime el nombre y precio de cada producto."
   ]
  },
  {
   "cell_type": "code",
   "execution_count": null,
   "id": "970adfdd",
   "metadata": {},
   "outputs": [
    {
     "name": "stdout",
     "output_type": "stream",
     "text": [
      "El producto es: Pizza y su precio es: 10,99\n",
      "El producto es: Tallarines a la Carbonara y su precio es: 12,99\n"
     ]
    }
   ],
   "source": [
    "productos = {\n",
    "    \"producto1\": {\n",
    "        \"Nombre\": \"Pizza\",\n",
    "        \"Precio\": \"10,99€\"\n",
    "    },\n",
    "    \"producto2\": {\n",
    "        \"Nombre\": \"Tallarines a la Carbonara\",\n",
    "        \"Precio\": \"12,99€\"\n",
    "    }\n",
    "}\n",
    "\n",
    "for clave, valor in productos.items():\n",
    "    nombre = valor[\"Nombre\"]\n",
    "    precio = valor[\"Precio\"]\n",
    "    print(f\"El producto es:\", nombre, \"y su precio es:\", precio)\n"
   ]
  },
  {
   "cell_type": "markdown",
   "id": "83e94254",
   "metadata": {},
   "source": [
    "23. Agrega un nuevo producto al diccionario \"productos\" utilizando una nueva clave y valor. Imprime el diccionario actualizado.\n"
   ]
  },
  {
   "cell_type": "code",
   "execution_count": 21,
   "id": "76bec438",
   "metadata": {},
   "outputs": [
    {
     "name": "stdout",
     "output_type": "stream",
     "text": [
      "{'producto1': {'Nombre': 'Pizza', 'Precio': '10,99'}, 'producto2': {'Nombre': 'Tallarines a la Carbonara', 'Precio': '12,99'}, 'productos3': {'Nombre': 'Lasagna', 'Precio': '15,99€'}}\n"
     ]
    }
   ],
   "source": [
    "productos[\"productos3\"] = {\"Nombre\": \"Lasagna\", \"Precio\": \"15,99€\"}\n",
    "\n",
    "print(productos)"
   ]
  },
  {
   "cell_type": "markdown",
   "id": "62b3d3b3",
   "metadata": {},
   "source": [
    "24. Crea un diccionario llamado \"equipos\" que contenga tres entradas. Cada entrada representa un equipo deportivo y tiene las claves \"nombre\" y \"jugadores\" con sus respectivos valores.  \n",
    "Los valores de \"jugadores\" deben ser listas con los nombres de los jugadores. Recorre el diccionario e imprime el nombre del equipo y la lista de jugadores."
   ]
  },
  {
   "cell_type": "code",
   "execution_count": 22,
   "id": "fcb1e098",
   "metadata": {},
   "outputs": [
    {
     "name": "stdout",
     "output_type": "stream",
     "text": [
      "El equipo es: Real Madrid y sus jugadores son: Cristiano Ronaldo Benzema Bale\n",
      "El equipo es: FC Barcelona y sus jugadores son: Messi Puyol Xavi\n",
      "El equipo es: Atletico de Madrid y sus jugadores son: Griezmann Koke Llorente\n"
     ]
    }
   ],
   "source": [
    "equipos = {\n",
    "    \"equipo1\": {\n",
    "        \"Nombre\": \"Real Madrid\",\n",
    "        \"Jugador_1\": \"Cristiano Ronaldo\",\n",
    "        \"Jugador_2\": \"Benzema\",\n",
    "        \"Jugador_3\": \"Bale\",\n",
    "    },\n",
    "    \"equipo2\": {\n",
    "        \"Nombre\": \"FC Barcelona\",\n",
    "        \"Jugador_1\": \"Messi\",\n",
    "        \"Jugador_2\": \"Puyol\",\n",
    "        \"Jugador_3\": \"Xavi\",\n",
    "    },\n",
    "    \"equipo3\": {\n",
    "        \"Nombre\": \"Atletico de Madrid\",\n",
    "        \"Jugador_1\": \"Griezmann\",\n",
    "        \"Jugador_2\": \"Koke\",\n",
    "        \"Jugador_3\": \"Llorente\",\n",
    "    }\n",
    "}\n",
    "\n",
    "for clave, valor in equipos.items():\n",
    "    nombre = valor[\"Nombre\"]\n",
    "    jugador1 = valor[\"Jugador_1\"]\n",
    "    jugador2 = valor[\"Jugador_2\"]\n",
    "    jugador3 = valor[\"Jugador_3\"]\n",
    "    print(f\"El equipo es:\", nombre, \"y sus jugadores son:\", jugador1, jugador2, jugador3)\n"
   ]
  },
  {
   "cell_type": "markdown",
   "id": "28ea45e5",
   "metadata": {},
   "source": [
    "25. Agrega un nuevo equipo al diccionario \"equipos\" utilizando una nueva clave y valor. La lista de jugadores debe contener al menos tres nombres. Imprime el diccionario actualizado."
   ]
  },
  {
   "cell_type": "code",
   "execution_count": 23,
   "id": "ef502418",
   "metadata": {},
   "outputs": [
    {
     "name": "stdout",
     "output_type": "stream",
     "text": [
      "{'equipo1': {'Nombre': 'Real Madrid', 'Jugador_1': 'Cristiano Ronaldo', 'Jugador_2': 'Benzema', 'Jugador_3': 'Bale'}, 'equipo2': {'Nombre': 'FC Barcelona', 'Jugador_1': 'Messi', 'Jugador_2': 'Puyol', 'Jugador_3': 'Xavi'}, 'equipo3': {'Nombre': 'Atletico de Madrid', 'Jugador_1': 'Griezmann', 'Jugador_2': 'Koke', 'Jugador_3': 'Llorente'}, 'equipo4': {'Nombre': 'Sevilla FC', 'Jugador_1': 'Rakitic', 'Jugador_2': 'Jesús Navas', 'Jugador_3': 'Lucas Ocampos'}}\n"
     ]
    }
   ],
   "source": [
    "equipos[\"equipo4\"] = {\n",
    "    \"Nombre\": \"Sevilla FC\",\n",
    "    \"Jugador_1\": \"Rakitic\",\n",
    "    \"Jugador_2\": \"Jesús Navas\",\n",
    "    \"Jugador_3\": \"Lucas Ocampos\",\n",
    "}\n",
    "\n",
    "print(equipos)"
   ]
  },
  {
   "cell_type": "markdown",
   "id": "cf165ba6",
   "metadata": {},
   "source": [
    "26. Actualiza la lista de jugadores de uno de los equipos existentes en el diccionario \"equipos\". Agrega un nuevo jugador a la lista. Imprime el diccionario actualizado."
   ]
  },
  {
   "cell_type": "code",
   "execution_count": 26,
   "id": "fecbbcf6",
   "metadata": {},
   "outputs": [
    {
     "name": "stdout",
     "output_type": "stream",
     "text": [
      "{'equipo1': {'Nombre': 'Real Madrid', 'Jugador_1': 'Cristiano Ronaldo', 'Jugador_2': 'Benzema', 'Jugador_3': 'Bale', 'Jugador_4': 'Iker Casillas'}, 'equipo2': {'Nombre': 'FC Barcelona', 'Jugador_1': 'Messi', 'Jugador_2': 'Puyol', 'Jugador_3': 'Xavi', 'Jugador_4': 'Ter Stegen'}, 'equipo3': {'Nombre': 'Atletico de Madrid', 'Jugador_1': 'Griezmann', 'Jugador_2': 'Koke', 'Jugador_3': 'Llorente', 'Jugador_4': 'Jan Oblak'}, 'equipo4': {'Nombre': 'Sevilla FC', 'Jugador_1': 'Rakitic', 'Jugador_2': 'Jesús Navas', 'Jugador_3': 'Lucas Ocampos', 'Jugador_4': 'Kepa Arrizabalaga'}}\n"
     ]
    }
   ],
   "source": [
    "equipos[\"equipo1\"][\"Jugador_4\"] = \"Iker Casillas\"\n",
    "equipos[\"equipo2\"][\"Jugador_4\"] = \"Ter Stegen\"\n",
    "equipos[\"equipo3\"][\"Jugador_4\"] = \"Jan Oblak\"\n",
    "equipos[\"equipo4\"][\"Jugador_4\"] = \"Kepa Arrizabalaga\"\n",
    "\n",
    "print(equipos)"
   ]
  }
 ],
 "metadata": {
  "kernelspec": {
   "display_name": "base",
   "language": "python",
   "name": "python3"
  },
  "language_info": {
   "codemirror_mode": {
    "name": "ipython",
    "version": 3
   },
   "file_extension": ".py",
   "mimetype": "text/x-python",
   "name": "python",
   "nbconvert_exporter": "python",
   "pygments_lexer": "ipython3",
   "version": "3.12.9"
  }
 },
 "nbformat": 4,
 "nbformat_minor": 5
}
