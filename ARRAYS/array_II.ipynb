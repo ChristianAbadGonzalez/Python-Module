{
 "cells": [
  {
   "cell_type": "markdown",
   "metadata": {},
   "source": [
    "1. Crea un array con 15 números enteros aleatorios entre 1 y 100"
   ]
  },
  {
   "cell_type": "code",
   "execution_count": 2,
   "metadata": {},
   "outputs": [
    {
     "name": "stdout",
     "output_type": "stream",
     "text": [
      "[75 36 51 85 84 24 17  5 96 34 94 10 26 27  5]\n"
     ]
    }
   ],
   "source": [
    "# --- Debemos importar el modulo de numpy que previamente hemos instalado en nuestro entorno de trabajo ---\n",
    "import numpy as np\n",
    "\n",
    "# --- Para crear un array de numeros random enteros se utiliza la propiedad random y para que sea entero randint --- \n",
    "# --- np.random.randint(inicio, final, tamaño, tipo) ---\n",
    "\n",
    "array_enteros = np.random.randint(1, 101, size=15)\n",
    "\n",
    "# --- Imprimimos el resultado del array construido ---\n",
    "print(array_enteros)"
   ]
  },
  {
   "cell_type": "markdown",
   "metadata": {},
   "source": [
    "\n",
    "2. Multiplica todos los elementos del array usando un bucle y después usando un método de numpy.  \n",
    "Compara los resultados"
   ]
  },
  {
   "cell_type": "code",
   "execution_count": 3,
   "metadata": {},
   "outputs": [
    {
     "name": "stdout",
     "output_type": "stream",
     "text": [
      "La multiplicación resultante del array es: -777715712\n"
     ]
    },
    {
     "name": "stderr",
     "output_type": "stream",
     "text": [
      "C:\\Users\\M7600\\AppData\\Local\\Temp\\ipykernel_8328\\869333652.py:7: RuntimeWarning: overflow encountered in scalar multiply\n",
      "  multi_array = multi_array * numero\n"
     ]
    }
   ],
   "source": [
    "# --- Debemos importar el modulo de numpy que previamente hemos instalado en nuestro entorno de trabajo ---\n",
    "import numpy as np\n",
    "\n",
    "# --- Inicializamos la variable en 1 debido a que si lo inicializamos en 0 el valor resultante de aplicar la multiplicacion al recorrer el array es 0. ---\n",
    "multi_array = 1\n",
    "for numero in array_enteros:\n",
    "    multi_array = multi_array * numero\n",
    "\n",
    "print(f\"La multiplicación resultante del array es: {multi_array}\")"
   ]
  },
  {
   "cell_type": "markdown",
   "metadata": {},
   "source": [
    "3. Crea otro array con 15 números decimales aleatorios entre 0 y 1"
   ]
  },
  {
   "cell_type": "code",
   "execution_count": 4,
   "metadata": {},
   "outputs": [
    {
     "name": "stdout",
     "output_type": "stream",
     "text": [
      "[0.28853576 0.28235187 0.52403561 0.47118341 0.4507675  0.5596062\n",
      " 0.26395005 0.35035843 0.68296189 0.67343812 0.37772224 0.37199706\n",
      " 0.9312736  0.51227138 0.42570549]\n"
     ]
    }
   ],
   "source": [
    "# --- Debemos importar el modulo de numpy que previamente hemos instalado en nuestro entorno de trabajo ---\n",
    "import numpy as np\n",
    "\n",
    "# --- Para crear un array de numeros random decimales entre 0 y 1 se utiliza la propiedad random y para que sea entero rand --- \n",
    "# --- np.random.rand(tamaño) ---\n",
    "array_decimales = np.random.rand(15)\n",
    "\n",
    "print(array_decimales)"
   ]
  },
  {
   "cell_type": "markdown",
   "metadata": {},
   "source": [
    "4. Suma los elementos de ambos arrays elementos por elemento.  \n",
    "Resuélvelo usando un operador y después con una función de numpy.  \n",
    "(Pista: busca en google que función de numpy hace esto)"
   ]
  },
  {
   "cell_type": "code",
   "execution_count": 5,
   "metadata": {},
   "outputs": [
    {
     "name": "stdout",
     "output_type": "stream",
     "text": [
      "[75.28853576 36.28235187 51.52403561 85.47118341 84.4507675  24.5596062\n",
      " 17.26395005  5.35035843 96.68296189 34.67343812 94.37772224 10.37199706\n",
      " 26.9312736  27.51227138  5.42570549]\n",
      "[75.28853576 36.28235187 51.52403561 85.47118341 84.4507675  24.5596062\n",
      " 17.26395005  5.35035843 96.68296189 34.67343812 94.37772224 10.37199706\n",
      " 26.9312736  27.51227138  5.42570549]\n"
     ]
    }
   ],
   "source": [
    "# --- Debemos importar el modulo de numpy que previamente hemos instalado en nuestro entorno de trabajo ---\n",
    "import numpy as np\n",
    "\n",
    "# --- Suma utilizando operador + ---\n",
    "suma_array = array_enteros + array_decimales\n",
    "\n",
    "print(suma_array)\n",
    "\n",
    "# --- Suma usando función del módulo de Numpy ---\n",
    "suma_array_2 = np.add(array_enteros, array_decimales)\n",
    "\n",
    "print(suma_array_2)"
   ]
  },
  {
   "cell_type": "markdown",
   "metadata": {},
   "source": [
    "5. Ahora réstalos. Resuélvelo usando un operador y después con una función de numpy\n",
    "(Pista: busca en google que función de numpy hace esto)"
   ]
  },
  {
   "cell_type": "code",
   "execution_count": 7,
   "metadata": {},
   "outputs": [
    {
     "name": "stdout",
     "output_type": "stream",
     "text": [
      "[74.71146424 35.71764813 50.47596439 84.52881659 83.5492325  23.4403938\n",
      " 16.73604995  4.64964157 95.31703811 33.32656188 93.62227776  9.62800294\n",
      " 25.0687264  26.48772862  4.57429451]\n",
      "[74.71146424 35.71764813 50.47596439 84.52881659 83.5492325  23.4403938\n",
      " 16.73604995  4.64964157 95.31703811 33.32656188 93.62227776  9.62800294\n",
      " 25.0687264  26.48772862  4.57429451]\n"
     ]
    }
   ],
   "source": [
    "# --- Debemos importar el modulo de numpy que previamente hemos instalado en nuestro entorno de trabajo ---\n",
    "import numpy as np\n",
    "\n",
    "# --- Resta utilizando operador + ---\n",
    "resta_array = array_enteros - array_decimales\n",
    "\n",
    "print(resta_array)\n",
    "\n",
    "# --- Resta usando función del módulo de Numpy ---\n",
    "resta_array_2 = np.subtract(array_enteros, array_decimales)\n",
    "\n",
    "print(resta_array_2)\n",
    "\n"
   ]
  },
  {
   "cell_type": "markdown",
   "metadata": {},
   "source": [
    "6. Haz lo mismo con la multiplicación elemento por elemento. Usa un operador y después con una función de numpy.  \n",
    "(Pista: busca en google que función de numpy hace esto)"
   ]
  },
  {
   "cell_type": "code",
   "execution_count": 9,
   "metadata": {},
   "outputs": [
    {
     "name": "stdout",
     "output_type": "stream",
     "text": [
      "[21.64018203 10.16466736 26.72581608 40.05058998 37.86447001 13.4305488\n",
      "  4.48715082  1.75179217 65.56434191 22.89689604 35.50589092  3.71997062\n",
      " 24.21311369 13.83132734  2.12852744]\n",
      "[21.64018203 10.16466736 26.72581608 40.05058998 37.86447001 13.4305488\n",
      "  4.48715082  1.75179217 65.56434191 22.89689604 35.50589092  3.71997062\n",
      " 24.21311369 13.83132734  2.12852744]\n"
     ]
    }
   ],
   "source": [
    "# --- Debemos importar el modulo de numpy que previamente hemos instalado en nuestro entorno de trabajo ---\n",
    "import numpy as np\n",
    "\n",
    "multi_array = array_enteros * array_decimales\n",
    "\n",
    "print(multi_array)\n",
    "\n",
    "multi_array_2 = np.multiply(array_enteros, array_decimales)\n",
    "\n",
    "print(multi_array_2)"
   ]
  },
  {
   "cell_type": "markdown",
   "metadata": {},
   "source": [
    "7. Encuentra el valor más alto del primer array que has creado.\n"
   ]
  },
  {
   "cell_type": "code",
   "execution_count": 10,
   "metadata": {},
   "outputs": [
    {
     "name": "stdout",
     "output_type": "stream",
     "text": [
      "5\n",
      "96\n"
     ]
    }
   ],
   "source": [
    "# --- Debemos importar el modulo de numpy que previamente hemos instalado en nuestro entorno de trabajo ---\n",
    "import numpy as np\n",
    "\n",
    "min_array = np.min(array_enteros)\n",
    "\n",
    "print(min_array)\n",
    "\n",
    "max_array = np.max(array_enteros)\n",
    "\n",
    "print(max_array)"
   ]
  },
  {
   "cell_type": "markdown",
   "metadata": {},
   "source": [
    "8. Calcula la media (mean), la mediana (median) y al deviación estandar (standard deviation) de los arrays  \n",
    "(Nota: No nos importa el significado matemático de estos valores, lo importante es que encuentres que función de numpy necesitas.  \n",
    " Puedes hacer la búsqueda en castellano o en inglés, aunque en inglés muchas veces suele haber más resultados)."
   ]
  },
  {
   "cell_type": "code",
   "execution_count": 11,
   "metadata": {},
   "outputs": [
    {
     "name": "stdout",
     "output_type": "stream",
     "text": [
      "44.6\n",
      "34.0\n",
      "32.24241512872963\n",
      "0.17449249678063714\n"
     ]
    }
   ],
   "source": [
    "# --- Debemos importar el modulo de numpy que previamente hemos instalado en nuestro entorno de trabajo ---\n",
    "import numpy as np\n",
    "\n",
    "# --- MEDIA ---\n",
    "media_array = np.mean(array_enteros)\n",
    "\n",
    "print(media_array)\n",
    "\n",
    "media_array_2 = np.mean(array_decimales)\n",
    "\n",
    "# --- MEDIANA ---\n",
    "mediana_array = np.median(array_enteros)\n",
    "\n",
    "print(mediana_array)\n",
    "\n",
    "mediana_array_2 = np.median(array_decimales)\n",
    "\n",
    "# --- DESVIACION ESTANDAR ---\n",
    "desviacion_array = np.std(array_enteros)\n",
    "print(desviacion_array)\n",
    "\n",
    "desviacion_array_2 = np.std(array_decimales)\n",
    "print(desviacion_array_2)"
   ]
  },
  {
   "cell_type": "markdown",
   "metadata": {},
   "source": [
    "9.  Crea un arrays lleno de 1s con una longitud dada por el usuario"
   ]
  },
  {
   "cell_type": "code",
   "execution_count": 12,
   "metadata": {},
   "outputs": [
    {
     "name": "stdout",
     "output_type": "stream",
     "text": [
      "[1. 1. 1. 1. 1. 1. 1. 1. 1. 1.]\n"
     ]
    }
   ],
   "source": [
    "# --- Debemos importar el modulo de numpy que previamente hemos instalado en nuestro entorno de trabajo ---\n",
    "import numpy as np\n",
    "\n",
    "# --- Pedimos al usuario que introduzca la longitud del array ---\n",
    "longitud = int(input(\"Por favor introduce la longitud del array que desea obtener: \"))\n",
    "\n",
    "# --- Creamos el array de valores 1 segun la longitud expuesta o porporcionada por el usuario ---\n",
    "array_ones = np.ones(longitud)\n",
    "\n",
    "# --- Imprimimos por pantalla el array con la longitud dada por el usuario ---\n",
    "print(array_ones)"
   ]
  },
  {
   "cell_type": "markdown",
   "metadata": {},
   "source": [
    "10. Cambia la forma del array para que tenga una estructura de tipo (filas, columnas)"
   ]
  },
  {
   "cell_type": "code",
   "execution_count": 18,
   "metadata": {},
   "outputs": [
    {
     "name": "stdout",
     "output_type": "stream",
     "text": [
      "[1. 1. 1. 1. 1. 1. 1. 1. 1. 1.]\n",
      "La cantidad de filas y columnas no es compatible con la longitud del array\n"
     ]
    }
   ],
   "source": [
    "import numpy as np\n",
    "\n",
    "longitud = int(input(\"Por favor introduce la longitud del array que desea obtener: \"))\n",
    "array_ones = np.ones(longitud)\n",
    "print(array_ones)\n",
    "\n",
    "filas = int(input(\"Por favor, ingrese el número de filas que desea que tenga el array: \"))\n",
    "columnas = int(input(\"Por favor, ingrese el número de columnas que desea que tenga el array: \"))\n",
    "\n",
    "# --- Módulo de Numpy --> reshape() ---\n",
    "if (filas * columnas) == longitud:\n",
    "    array_nuevo = np.reshape(array_ones, (filas, columnas))\n",
    "    print(\"El array conformado es: \\n\", array_nuevo)\n",
    "else:\n",
    "    print(\"La cantidad de filas y columnas no es compatible con la longitud del array\")"
   ]
  },
  {
   "cell_type": "markdown",
   "metadata": {},
   "source": [
    "11. Crea una “matriz identidad” con la misma forma que el array anterior (filas, columnas)"
   ]
  },
  {
   "cell_type": "code",
   "execution_count": null,
   "metadata": {},
   "outputs": [],
   "source": [
    "import numpy as np\n",
    "\n",
    "longitud = int(input(\"Por favor introduce la longitud del array que desea obtener: \"))\n",
    "array_ones = np.ones(longitud)\n",
    "print(array_ones)\n",
    "\n",
    "filas = int(input(\"Por favor, ingrese el número de filas que desea que tenga el array: \"))\n",
    "columnas = int(input(\"Por favor, ingrese el número de columnas que desea que tenga el array: \"))\n",
    "\n",
    "if (filas * columnas) == longitud:\n",
    "    array_nuevo = np.reshape(array_ones, (filas, columnas))\n",
    "    print(\"El array conformado es: \\n\", array_nuevo)\n",
    "\n",
    "    if filas == columnas:\n",
    "        matriz_identidad = np.eye(filas)\n",
    "        print(\"La matriz identidad es: \", matriz_identidad)\n",
    "    else:\n",
    "        print(\"No se puede crear una matriz identidad con diferente numero de filas que de columnas\")\n",
    "    \n",
    "else:\n",
    "    print(\"La cantidad de filas y columnas no es compatible con la longitud del array\")"
   ]
  },
  {
   "cell_type": "markdown",
   "metadata": {},
   "source": [
    "12. Concatena ambas estructuras horizontalmente y verticalmente  \n",
    "(Pista: Investiga el funcionamiento de concatenate() y de vstack() y hstack() de numpy)\n"
   ]
  },
  {
   "cell_type": "code",
   "execution_count": null,
   "metadata": {},
   "outputs": [],
   "source": [
    "import numpy as np\n",
    "\n",
    "longitud = int(input(\"Por favor introduce la longitud del array que desea obtener: \"))\n",
    "array_ones = np.ones(longitud)\n",
    "print(array_ones)\n",
    "\n",
    "filas = int(input(\"Por favor, ingrese el número de filas que desea que tenga el array: \"))\n",
    "columnas = int(input(\"Por favor, ingrese el número de columnas que desea que tenga el array: \"))\n",
    "\n",
    "if (filas * columnas) == longitud:\n",
    "    array_nuevo = np.reshape(array_ones, (filas, columnas))\n",
    "    print(\"El array conformado es: \\n\", array_nuevo)\n",
    "\n",
    "    if filas == columnas:\n",
    "        matriz_identidad = np.eye(filas)\n",
    "        print(\"La matriz identidad es: \", matriz_identidad)\n",
    "\n",
    "        # concatenar horizontalmente\\n\",\n",
    "        concat_horizontal = np.hstack((nuevo_array, matriz_identidad))\n",
    "        print(\"Concatenacion horizontal: \", concat_horizontal)\n",
    "        \n",
    "        # --- Concatenar vertical ---\n",
    "        concat_vertical = np.vstack((nuevo_array, matriz_identidad))\n",
    "        print(\"Concatenacion vertical: \", concat_vertical)\n",
    "    else:\n",
    "        print(\"No se puede crear una matriz identidad con diferente numero de filas que de columnas\")\n",
    "    \n",
    "else:\n",
    "    print(\"La cantidad de filas y columnas no es compatible con la longitud del array\")"
   ]
  }
 ],
 "metadata": {
  "kernelspec": {
   "display_name": "base",
   "language": "python",
   "name": "python3"
  },
  "language_info": {
   "codemirror_mode": {
    "name": "ipython",
    "version": 3
   },
   "file_extension": ".py",
   "mimetype": "text/x-python",
   "name": "python",
   "nbconvert_exporter": "python",
   "pygments_lexer": "ipython3",
   "version": "3.12.9"
  }
 },
 "nbformat": 4,
 "nbformat_minor": 2
}
