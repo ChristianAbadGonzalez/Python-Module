{
 "cells": [
  {
   "cell_type": "markdown",
   "metadata": {},
   "source": [
    "1. Crea un array_1 lleno ceros con una longitud de 8 elementos."
   ]
  },
  {
   "cell_type": "code",
   "execution_count": 1,
   "metadata": {},
   "outputs": [
    {
     "name": "stdout",
     "output_type": "stream",
     "text": [
      "[0. 0. 0. 0. 0. 0. 0. 0.]\n"
     ]
    }
   ],
   "source": [
    "# --- Debemos importar el modulo de numpy que previamente hemos instalado en nuestro entorno de trabajo ---\n",
    "import numpy as np\n",
    "\n",
    "# --- Creamos un array_1 compuesto por un array de 8 posiciones inicializadas con valor 0 ---\n",
    "array_1 = np.zeros(8)\n",
    "\n",
    "# --- Imprimimos los valores asociados al array almacenado --- \n",
    "print(array_1)"
   ]
  },
  {
   "cell_type": "markdown",
   "metadata": {},
   "source": [
    "2. Haz que todos los elementos de este array sean igual a 2"
   ]
  },
  {
   "cell_type": "code",
   "execution_count": 2,
   "metadata": {},
   "outputs": [
    {
     "name": "stdout",
     "output_type": "stream",
     "text": [
      "[2. 2. 2. 2. 2. 2. 2. 2.]\n"
     ]
    }
   ],
   "source": [
    "# --- Convertimos todos los valores del array almacenado en array_1 con valor 0 en valor 2 ---\n",
    "array_1[:] = 2\n",
    "\n",
    "print(array_1)"
   ]
  },
  {
   "cell_type": "markdown",
   "metadata": {},
   "source": [
    "3. Crea un array_2 que contenga todos los números pares del 1 al 10."
   ]
  },
  {
   "cell_type": "code",
   "execution_count": 8,
   "metadata": {},
   "outputs": [
    {
     "name": "stdout",
     "output_type": "stream",
     "text": [
      "[ 2  4  6  8 10]\n"
     ]
    }
   ],
   "source": [
    "array_2 = np.arange(2,11,2)\n",
    "\n",
    "print(array_2)"
   ]
  },
  {
   "cell_type": "markdown",
   "metadata": {},
   "source": [
    "4. Suma todos los elementos del array_2 usando un bucle y después usando un método de numpy. Compara los resultados"
   ]
  },
  {
   "cell_type": "code",
   "execution_count": null,
   "metadata": {},
   "outputs": [
    {
     "name": "stdout",
     "output_type": "stream",
     "text": [
      "30\n",
      "30\n"
     ]
    }
   ],
   "source": [
    "# --- Inicializamos una variable con valor 0 para futura actualizacion en base a los valores que vamos a recorrer usando el bucle ---\n",
    "suma_array = 0\n",
    "\n",
    "for numero in array_2:\n",
    "    suma_array = suma_array + numero\n",
    "\n",
    "print(suma_array)"
   ]
  },
  {
   "cell_type": "markdown",
   "metadata": {},
   "source": [
    "5. Revierte array_2 y guárdalo en una variable independiente."
   ]
  },
  {
   "cell_type": "code",
   "execution_count": 15,
   "metadata": {},
   "outputs": [
    {
     "name": "stdout",
     "output_type": "stream",
     "text": [
      "[10  8  6  4  2]\n",
      "----------------\n",
      "[ 2  4  6  8 10]\n"
     ]
    },
    {
     "data": {
      "text/plain": [
       "array([False, False,  True, False, False])"
      ]
     },
     "execution_count": 15,
     "metadata": {},
     "output_type": "execute_result"
    }
   ],
   "source": [
    "\n",
    "array_independiente = array_2[::-1]\n",
    "\n",
    "print(array_independiente)\n",
    "print(\"----------------\")\n",
    "print(array_2)\n",
    "\n",
    "array_2 == array_independiente\n"
   ]
  },
  {
   "cell_type": "markdown",
   "metadata": {},
   "source": [
    "6. Encuentra los elementos comunes entre array_1 y array_2 y entre array_2 y array_2_revertido  \n",
    "(Pista: Investiga el uso de intersect1d() de numpy)\n"
   ]
  },
  {
   "cell_type": "code",
   "execution_count": null,
   "metadata": {},
   "outputs": [
    {
     "name": "stdout",
     "output_type": "stream",
     "text": [
      "[2. 2. 2. 2. 2. 2. 2. 2.]\n",
      "[ 2  4  6  8 10]\n",
      "[10  8  6  4  2]\n",
      "[2.]\n"
     ]
    }
   ],
   "source": [
    "# --- Debemos importar el modulo de numpy que previamente hemos instalado en nuestro entorno de trabajo ---\n",
    "import numpy as np\n",
    "\n",
    "# --- Arrays almacenados ---\n",
    "array_1 = np.zeros(8)\n",
    "array_1[:] = 2\n",
    "array_2 = np.arange(2,11,2)\n",
    "array_independiente = array_2[::-1]\n",
    "\n",
    "# --- Imprimimos por pantalla los arrays almacenados en la memoria ---\n",
    "print(array_1)\n",
    "print(array_2)\n",
    "print(array_independiente)\n",
    "\n",
    "# --- Obtención de los elementos comunes entre array_1 y array_2 --> funcion intersect1d() del modulo de numpy\n",
    "interseccion_1 = np.intersect1d(array_1, array_2)\n",
    "print(interseccion_1)\n"
   ]
  },
  {
   "cell_type": "markdown",
   "metadata": {},
   "source": [
    "7. Crea un arrays lleno de 1s con una longitud dada por el usuario"
   ]
  },
  {
   "cell_type": "code",
   "execution_count": 18,
   "metadata": {},
   "outputs": [
    {
     "name": "stdout",
     "output_type": "stream",
     "text": [
      "[1. 1. 1. 1. 1.]\n"
     ]
    }
   ],
   "source": [
    "# --- Debemos importar el modulo de numpy que previamente hemos instalado en nuestro entorno de trabajo ---\n",
    "import numpy as np\n",
    "\n",
    "# --- Pedimos al usuario que introduzca la longitud del array ---\n",
    "longitud = int(input(\"Por favor introduce la longitud del array que desea obtener: \"))\n",
    "\n",
    "# --- Creamos el array de valores 1 segun la longitud expuesta o porporcionada por el usuario ---\n",
    "array_ones = np.ones(longitud)\n",
    "\n",
    "# --- Imprimimos por pantalla el array con la longitud dada por el usuario ---\n",
    "print(array_ones)"
   ]
  }
 ],
 "metadata": {
  "kernelspec": {
   "display_name": "base",
   "language": "python",
   "name": "python3"
  },
  "language_info": {
   "codemirror_mode": {
    "name": "ipython",
    "version": 3
   },
   "file_extension": ".py",
   "mimetype": "text/x-python",
   "name": "python",
   "nbconvert_exporter": "python",
   "pygments_lexer": "ipython3",
   "version": "3.12.9"
  }
 },
 "nbformat": 4,
 "nbformat_minor": 2
}
