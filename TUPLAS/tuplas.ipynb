{
 "cells": [
  {
   "cell_type": "markdown",
   "metadata": {},
   "source": [
    "### TRABAJANDO CON TUPLAS"
   ]
  },
  {
   "cell_type": "markdown",
   "metadata": {},
   "source": [
    "1. Crea una tupla con tres elementos y imprime por pantalla cada uno de ellos en una nueva línea."
   ]
  },
  {
   "cell_type": "code",
   "execution_count": null,
   "metadata": {},
   "outputs": [
    {
     "name": "stdout",
     "output_type": "stream",
     "text": [
      "1\n",
      "2\n",
      "3\n",
      "4\n",
      "5\n",
      "6\n",
      "7\n",
      "8\n",
      "9\n",
      "10\n"
     ]
    }
   ],
   "source": [
    "mi_tupla = (1, 2, 3)\n",
    "for numero in mi_tupla:\n",
    "    print(numero)\n"
   ]
  },
  {
   "cell_type": "markdown",
   "metadata": {},
   "source": [
    "2. Crea una lista con tres elementos e intenta modificarla. Haz lo mismo con una tupla. ¿Cuál es la diferencia?"
   ]
  },
  {
   "cell_type": "code",
   "execution_count": null,
   "metadata": {},
   "outputs": [
    {
     "name": "stdout",
     "output_type": "stream",
     "text": [
      "[4, 2, 3]\n"
     ]
    },
    {
     "ename": "TypeError",
     "evalue": "'tuple' object does not support item assignment",
     "output_type": "error",
     "traceback": [
      "\u001b[1;31m---------------------------------------------------------------------------\u001b[0m",
      "\u001b[1;31mTypeError\u001b[0m                                 Traceback (most recent call last)",
      "Cell \u001b[1;32mIn[4], line 6\u001b[0m\n\u001b[0;32m      3\u001b[0m \u001b[38;5;28mprint\u001b[39m(mi_lista)\n\u001b[0;32m      5\u001b[0m mi_tupla \u001b[38;5;241m=\u001b[39m (\u001b[38;5;241m1\u001b[39m, \u001b[38;5;241m2\u001b[39m, \u001b[38;5;241m3\u001b[39m)\n\u001b[1;32m----> 6\u001b[0m mi_tupla[\u001b[38;5;241m0\u001b[39m] \u001b[38;5;241m=\u001b[39m \u001b[38;5;241m4\u001b[39m\n\u001b[0;32m      7\u001b[0m \u001b[38;5;28mprint\u001b[39m(mi_tupla)\n",
      "\u001b[1;31mTypeError\u001b[0m: 'tuple' object does not support item assignment"
     ]
    }
   ],
   "source": [
    "mi_lista = [1, 2, 3]\n",
    "mi_lista[0] = 4\n",
    "print(mi_lista)\n",
    "\n",
    "mi_tupla = (1, 2, 3)\n",
    "mi_tupla[0] = 4 # ERROR --> 'tuple' object does not support item assignment\n",
    "print(mi_tupla)"
   ]
  },
  {
   "cell_type": "markdown",
   "metadata": {},
   "source": [
    "3. Crea una tupla de entero y devuelve la suma de los elementos."
   ]
  },
  {
   "cell_type": "code",
   "execution_count": null,
   "metadata": {},
   "outputs": [],
   "source": [
    "mi_tupla = (1, 2, 3)\n",
    "suma = sum(mi_tupla)\n",
    "\n",
    "print(suma)\n"
   ]
  },
  {
   "cell_type": "markdown",
   "metadata": {},
   "source": [
    "4. Cree un script que dada una tupla que contierne strings cree una nueva tupla con el primer caracter de cada string."
   ]
  },
  {
   "cell_type": "code",
   "execution_count": 6,
   "metadata": {},
   "outputs": [
    {
     "name": "stdout",
     "output_type": "stream",
     "text": [
      "['m', 'p', 'n']\n",
      "('m', 'p', 'n')\n"
     ]
    }
   ],
   "source": [
    "mi_tupla = (\"manzana\", \"platano\", \"naranja\")\n",
    "\n",
    "mi_lista = []\n",
    "\n",
    "for palabra in mi_tupla:\n",
    "    mi_lista.append(palabra[0])\n",
    "\n",
    "mi_string_tupla = list(mi_lista)\n",
    "\n",
    "print(mi_string_tupla)\n",
    "\n",
    "mi_string_tupla2 = tuple(palabra[0] for palabra in mi_tupla)\n",
    "print(mi_string_tupla2)\n",
    "\n"
   ]
  },
  {
   "cell_type": "markdown",
   "metadata": {},
   "source": [
    "5. Cree un script que dada una tupla de numeros devuelva el productos de todos los números pares"
   ]
  },
  {
   "cell_type": "code",
   "execution_count": 11,
   "metadata": {},
   "outputs": [
    {
     "name": "stdout",
     "output_type": "stream",
     "text": [
      "48\n"
     ]
    }
   ],
   "source": [
    "mi_tupla = (1, 2, 3, 4, 5, 6)\n",
    "\n",
    "producto = 1\n",
    "\n",
    "for numero in mi_tupla:\n",
    "    if numero % 2 == 0:\n",
    "        producto = producto * numero \n",
    "\n",
    "print(producto)"
   ]
  },
  {
   "cell_type": "markdown",
   "metadata": {},
   "source": [
    "6. Crea un script que dada una tupla de números, devuelva la tupla con los numeros ordenados de forma descendente"
   ]
  },
  {
   "cell_type": "code",
   "execution_count": 13,
   "metadata": {},
   "outputs": [
    {
     "name": "stdout",
     "output_type": "stream",
     "text": [
      "(8, 6, 4, 2, 1)\n"
     ]
    }
   ],
   "source": [
    "mi_tupla = (4,1,6,2,8)\n",
    "\n",
    "mi_tupla_reordenada = tuple(sorted(mi_tupla, reverse = True))\n",
    "\n",
    "print(mi_tupla_reordenada)"
   ]
  },
  {
   "cell_type": "markdown",
   "metadata": {},
   "source": [
    "7. Crea un script que dada una tupla con numeros enteros repetidos, elimine los duplicados. (Puedes usar SETS)"
   ]
  },
  {
   "cell_type": "code",
   "execution_count": 1,
   "metadata": {},
   "outputs": [
    {
     "name": "stdout",
     "output_type": "stream",
     "text": [
      "(1, 2, 3, 4, 5, 6, 7)\n"
     ]
    }
   ],
   "source": [
    "mi_tupla = (1, 2, 3, 2, 4, 1, 5, 6, 3, 7)\n",
    "\n",
    "mi_nueva_tupla = tuple(set(mi_tupla))\n",
    "\n",
    "print(mi_nueva_tupla)"
   ]
  },
  {
   "cell_type": "markdown",
   "metadata": {},
   "source": [
    "8. Crea un script que dada una tupla y un numero entero, devuelve verdadero si el numero se encuentra en la tupla y falso en el caso contrario."
   ]
  },
  {
   "cell_type": "code",
   "execution_count": 5,
   "metadata": {},
   "outputs": [
    {
     "name": "stdout",
     "output_type": "stream",
     "text": [
      "False\n"
     ]
    }
   ],
   "source": [
    "mi_tupla = (1, 2, 3, 2, 4, 1, 5, 6, 3, 7)\n",
    "\n",
    "target = 10\n",
    "\n",
    "mi_nueva_tupla = tuple(set(mi_tupla))\n",
    "\n",
    "comprobacion = target in mi_tupla\n",
    "\n",
    "comprobacion2 = target in mi_nueva_tupla\n",
    "\n",
    "print(comprobacion)"
   ]
  },
  {
   "cell_type": "markdown",
   "metadata": {},
   "source": [
    "9. Crea un script que dadas dos tuplas cree una tupla resultante de la union de ambas."
   ]
  },
  {
   "cell_type": "code",
   "execution_count": 7,
   "metadata": {},
   "outputs": [
    {
     "name": "stdout",
     "output_type": "stream",
     "text": [
      "(1, 2, 3, 4, 5, 6, 7, 8, 9, 10, 11, 12, 13, 14, 15)\n"
     ]
    }
   ],
   "source": [
    "mi_tupla = (1, 2, 3, 4, 5, 6, 7)\n",
    "\n",
    "mi_tupla2 = (8, 9, 10, 11, 12, 13, 14, 15)\n",
    "\n",
    "suma_tuplas = mi_tupla + mi_tupla2\n",
    "\n",
    "print(suma_tuplas)\n"
   ]
  },
  {
   "cell_type": "markdown",
   "metadata": {},
   "source": [
    "10. Crea un script que dada una tupla de números devuelva e máximo y el mínimo."
   ]
  },
  {
   "cell_type": "code",
   "execution_count": 8,
   "metadata": {},
   "outputs": [
    {
     "name": "stdout",
     "output_type": "stream",
     "text": [
      "15\n",
      "1\n"
     ]
    }
   ],
   "source": [
    "mi_tupla = (1, 2, 3, 4, 5, 6, 7, 8, 9, 10, 11, 12, 13, 14, 15)\n",
    "\n",
    "maximo = max(mi_tupla)\n",
    "\n",
    "minimo = min(mi_tupla)\n",
    "\n",
    "print(maximo)\n",
    "print(minimo)"
   ]
  },
  {
   "cell_type": "markdown",
   "metadata": {},
   "source": [
    "11. Crea un script que dada una tupla con strings devuelva el string más largo y el más corto. (Prueba añadiendo key=len a las funciones max y min).\n"
   ]
  },
  {
   "cell_type": "code",
   "execution_count": 10,
   "metadata": {},
   "outputs": [
    {
     "name": "stdout",
     "output_type": "stream",
     "text": [
      "uva manzana\n"
     ]
    }
   ],
   "source": [
    "mi_tupla = (\"manzana\", \"kiwi\", \"cereza\", \"fresa\", \"uva\")\n",
    "\n",
    "minimo = min(mi_tupla, key = len)\n",
    "maximo = max(mi_tupla, key = len)\n",
    "\n",
    "print(minimo, maximo)"
   ]
  },
  {
   "cell_type": "markdown",
   "metadata": {},
   "source": [
    "12. Crea un script que dada una tupla devuelva el contenido en orden revertido."
   ]
  },
  {
   "cell_type": "code",
   "execution_count": 13,
   "metadata": {},
   "outputs": [
    {
     "name": "stdout",
     "output_type": "stream",
     "text": [
      "(1, 2, 3) (3, 2, 1)\n"
     ]
    }
   ],
   "source": [
    "mi_tupla = (1, 2, 3)\n",
    "\n",
    "mi_tupla_revertida = mi_tupla[::-1]\n",
    "\n",
    "print(mi_tupla, mi_tupla_revertida)"
   ]
  },
  {
   "cell_type": "markdown",
   "metadata": {},
   "source": [
    "13. Crea un script que dada una tupla de tuplas, donde cada tupla interna contiene dos elementos, devuelva una nueva tupla en la que cada elemento sea la suma de los dos  \n",
    "elementos de la tupla interna correspondiente."
   ]
  },
  {
   "cell_type": "code",
   "execution_count": 17,
   "metadata": {},
   "outputs": [
    {
     "name": "stdout",
     "output_type": "stream",
     "text": [
      "(3, 7, 11)\n",
      "(3, 7, 11)\n"
     ]
    }
   ],
   "source": [
    "mi_tupla = ((1, 2), (3, 4), (5, 6))\n",
    "\n",
    "mi_lista = []\n",
    "\n",
    "for tupla in mi_tupla:\n",
    "    suma = sum(tupla)\n",
    "    mi_lista.append(suma)\n",
    "\n",
    "mi_nueva_tupla = tuple(mi_lista)\n",
    "print(mi_nueva_tupla)\n",
    "\n",
    "mi_nueva_tupla2 = tuple(sum(tupla) for tupla in mi_tupla)\n",
    "print(mi_nueva_tupla2)"
   ]
  }
 ],
 "metadata": {
  "kernelspec": {
   "display_name": "base",
   "language": "python",
   "name": "python3"
  },
  "language_info": {
   "codemirror_mode": {
    "name": "ipython",
    "version": 3
   },
   "file_extension": ".py",
   "mimetype": "text/x-python",
   "name": "python",
   "nbconvert_exporter": "python",
   "pygments_lexer": "ipython3",
   "version": "3.12.9"
  }
 },
 "nbformat": 4,
 "nbformat_minor": 2
}
