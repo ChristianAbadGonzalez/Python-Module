{
 "cells": [
  {
   "cell_type": "markdown",
   "metadata": {},
   "source": [
    "1. Crea un set y elimina uno de sus elementos.\n"
   ]
  },
  {
   "cell_type": "code",
   "execution_count": null,
   "metadata": {},
   "outputs": [
    {
     "name": "stdout",
     "output_type": "stream",
     "text": [
      "{1, 2, 3, 4}\n"
     ]
    }
   ],
   "source": [
    "mi_set = {1, 2, 3, 4}\n",
    "\n",
    "# mi_set.remove(4) -- Elimina la posición 4, he imprime el set de la siguiente manera: {1, 2, 3}\n",
    "\n",
    "mi_set.discard(5) # Imprime completamente el set debido a que no existe una posición 5\n",
    "\n",
    "print(mi_set)"
   ]
  },
  {
   "cell_type": "markdown",
   "metadata": {},
   "source": [
    "2. Crea un set vacío."
   ]
  },
  {
   "cell_type": "code",
   "execution_count": 4,
   "metadata": {},
   "outputs": [
    {
     "name": "stdout",
     "output_type": "stream",
     "text": [
      "<class 'set'>\n"
     ]
    }
   ],
   "source": [
    "mi_set = set()\n",
    "\n",
    "print(type(mi_set))"
   ]
  },
  {
   "cell_type": "markdown",
   "metadata": {},
   "source": [
    "3. Crea dos sets y encuentra su union, su intersección y su diferencia.\n"
   ]
  },
  {
   "cell_type": "code",
   "execution_count": 5,
   "metadata": {},
   "outputs": [
    {
     "name": "stdout",
     "output_type": "stream",
     "text": [
      "{1, 2, 3, 4, 5, 6, 7}\n",
      "{4}\n",
      "{5, 6, 7}\n"
     ]
    }
   ],
   "source": [
    "mi_set = {1, 2, 3, 4}\n",
    "\n",
    "mi_set2 = {4, 5, 6, 7}\n",
    "\n",
    "# UNIÓN\n",
    "A = mi_set2.union(mi_set) # {1, 2, 3, 4, 5, 6, 7}\n",
    "print(A)\n",
    "\n",
    "# INTERSECCIÓN\n",
    "B = mi_set2.intersection(mi_set) # {4}\n",
    "print(B)\n",
    "\n",
    "# DIFERENCIA\n",
    "C = mi_set2.difference(mi_set) # {5, 6, 7}\n",
    "print(C)"
   ]
  },
  {
   "cell_type": "markdown",
   "metadata": {},
   "source": [
    "4. Crea un script que dados dos sets cree uno nuevo que contenga solo los elementos comunes de ambos.\n"
   ]
  },
  {
   "cell_type": "code",
   "execution_count": 2,
   "metadata": {},
   "outputs": [
    {
     "name": "stdout",
     "output_type": "stream",
     "text": [
      "{4}\n",
      "{4}\n"
     ]
    }
   ],
   "source": [
    "mi_set = {1, 2, 3, 4}\n",
    "\n",
    "mi_set2 = {4, 5, 6, 7}\n",
    "\n",
    "mi_set3 = mi_set2.intersection(mi_set) # {4}\n",
    "\n",
    "mi_set4 = mi_set & mi_set2 # {4} -- Intersección de dos sets\n",
    "\n",
    "print(mi_set3)\n",
    "print(mi_set4)"
   ]
  },
  {
   "cell_type": "markdown",
   "metadata": {},
   "source": [
    "5. Crea un script que dado un set con números devuelva el numero máximo y mínimo."
   ]
  },
  {
   "cell_type": "code",
   "execution_count": 3,
   "metadata": {},
   "outputs": [
    {
     "name": "stdout",
     "output_type": "stream",
     "text": [
      "1\n",
      "10\n"
     ]
    }
   ],
   "source": [
    "mi_set = {1, 2, 3, 4, 5, 6, 7, 8, 9, 10}\n",
    "\n",
    "minimo = min(mi_set)\n",
    "maximo = max(mi_set)\n",
    "\n",
    "print(minimo)\n",
    "print(maximo)"
   ]
  },
  {
   "cell_type": "markdown",
   "metadata": {},
   "source": [
    "6. Crea un script que dados dos sets cree uno nuevo solo con los elementos únicos de cada uno de los sets.\n"
   ]
  },
  {
   "cell_type": "code",
   "execution_count": null,
   "metadata": {},
   "outputs": [
    {
     "name": "stdout",
     "output_type": "stream",
     "text": [
      "{1, 2, 3, 5, 6, 7}\n"
     ]
    }
   ],
   "source": [
    "mi_set = {1, 2, 3, 4}\n",
    "\n",
    "mi_set2 = {4, 5, 6, 7}\n",
    "\n",
    "mi_set3 = mi_set.symmetric_difference(mi_set2) # {1, 2, 3, 5, 6, 7} -- Diferencia simétrica entre dos sets\n",
    "\n",
    "print(mi_set3)"
   ]
  },
  {
   "cell_type": "markdown",
   "metadata": {},
   "source": [
    "7. Crea un set con colores y comprueba si cierto color se encuentra en el set."
   ]
  },
  {
   "cell_type": "code",
   "execution_count": 8,
   "metadata": {},
   "outputs": [
    {
     "name": "stdout",
     "output_type": "stream",
     "text": [
      "False\n",
      "True\n"
     ]
    }
   ],
   "source": [
    "mi_set = {\"rojo\", \"verde\", \"azul\", \"amarillo\", \"naranja\", \"morado\"}\n",
    "\n",
    "target = \"violeta\"\n",
    "comprobacion = target in mi_set\n",
    "\n",
    "comprobacion2 = \"rojo\" in mi_set\n",
    "\n",
    "print(comprobacion)\n",
    "print(comprobacion2)"
   ]
  },
  {
   "cell_type": "markdown",
   "metadata": {},
   "source": [
    "8. Crea un script que dados dos sets cree un nuevo set con los elementos que están en el primer set pero no en el segundo.\n"
   ]
  },
  {
   "cell_type": "code",
   "execution_count": 10,
   "metadata": {},
   "outputs": [
    {
     "name": "stdout",
     "output_type": "stream",
     "text": [
      "{'verde', 'naranja', 'morado', 'amarillo'}\n"
     ]
    }
   ],
   "source": [
    "mi_set = {\"rojo\", \"verde\", \"azul\", \"amarillo\", \"naranja\", \"morado\"}\n",
    "mi_set2 = {\"rojo\", \"violeta\", \"azul\"}\n",
    "\n",
    "mi_set3 = mi_set.difference(mi_set2)\n",
    "\n",
    "print(mi_set3)"
   ]
  },
  {
   "cell_type": "markdown",
   "metadata": {},
   "source": [
    "9. Crea un script que dado un set de enteros devuelva el producto de todos los números dentro del set."
   ]
  },
  {
   "cell_type": "code",
   "execution_count": 11,
   "metadata": {},
   "outputs": [
    {
     "name": "stdout",
     "output_type": "stream",
     "text": [
      "24\n"
     ]
    }
   ],
   "source": [
    "mi_set = {1, 2, 3, 4}\n",
    "\n",
    "producto = 1\n",
    "for numero in mi_set:\n",
    "    producto = producto * numero\n",
    "\n",
    "print(producto) "
   ]
  }
 ],
 "metadata": {
  "kernelspec": {
   "display_name": "base",
   "language": "python",
   "name": "python3"
  },
  "language_info": {
   "codemirror_mode": {
    "name": "ipython",
    "version": 3
   },
   "file_extension": ".py",
   "mimetype": "text/x-python",
   "name": "python",
   "nbconvert_exporter": "python",
   "pygments_lexer": "ipython3",
   "version": "3.12.9"
  }
 },
 "nbformat": 4,
 "nbformat_minor": 2
}
