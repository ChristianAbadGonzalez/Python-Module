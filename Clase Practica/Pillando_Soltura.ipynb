{
 "cells": [
  {
   "cell_type": "markdown",
   "metadata": {},
   "source": [
    "1. Escribe un programa en Python para encontrar los elementos duplicados de una lista, añadirlos a una nueva lista y borrarlos de la lista.  \n",
    "Después imprime una lista con tan solo los elementos únicos."
   ]
  },
  {
   "cell_type": "code",
   "execution_count": 15,
   "metadata": {},
   "outputs": [
    {
     "name": "stdout",
     "output_type": "stream",
     "text": [
      "Lista original: [1, 2, 3, 4, 5, 6, 3, 7, 8, 9, 8, 10]\n",
      "Elementos unicos: [3, 8]\n",
      "Elementos duplicados: [3, 8]\n",
      "Lista nueva: [1, 2, 4, 5, 6, 3, 7, 9, 8, 10]\n"
     ]
    }
   ],
   "source": [
    "lista = [1,2,3,4,5,6,3,7,8,9,8,10]\n",
    "print(\"Lista original:\", lista) \n",
    "\n",
    "elementos_duplicados = []\n",
    "elementos_unicos = []\n",
    "\n",
    "for elemento in lista: \n",
    "    if lista.count(elemento) > 1: \n",
    "        if elemento not in elementos_duplicados:\n",
    "            elementos_duplicados.append(elemento)\n",
    "        else:\n",
    "            elementos_unicos.append(elemento)\n",
    "\n",
    "for elemento in elementos_duplicados:\n",
    "    lista.remove(elemento)\n",
    "\n",
    "print(\"Elementos unicos:\", elementos_unicos)\n",
    "print(\"Elementos duplicados:\", elementos_duplicados)\n",
    "print(\"Lista nueva:\", lista)"
   ]
  },
  {
   "cell_type": "markdown",
   "metadata": {},
   "source": [
    "2. Escribe un programa en Python para unir dos listas y ordenarlas en orden ascendente."
   ]
  },
  {
   "cell_type": "code",
   "execution_count": 16,
   "metadata": {},
   "outputs": [
    {
     "name": "stdout",
     "output_type": "stream",
     "text": [
      "[1, 2, 3, 4, 5, 6, 7, 8]\n"
     ]
    }
   ],
   "source": [
    "lista1 = [3, 4, 1, 5]\n",
    "lista2 = [6, 2, 7, 8]\n",
    "\n",
    "\n",
    "lista_combinada = lista1 + lista2\n",
    "lista_combinada.sort()\n",
    "\n",
    "print(lista_combinada)"
   ]
  },
  {
   "cell_type": "markdown",
   "metadata": {},
   "source": [
    "3. Escribe un script que encuentre el segundo número más grande de una lista."
   ]
  },
  {
   "cell_type": "code",
   "execution_count": 17,
   "metadata": {},
   "outputs": [
    {
     "name": "stdout",
     "output_type": "stream",
     "text": [
      "7\n"
     ]
    }
   ],
   "source": [
    "numeros_aleatorios = [3, 2, 6, 8, 4, 1, 5, 7] # Lista de números aleatorios\n",
    "numeros_aleatorios.sort(reverse=True) # Ordena la lista de mayor a menor\n",
    "\n",
    "print(numeros_aleatorios[1])"
   ]
  },
  {
   "cell_type": "markdown",
   "metadata": {},
   "source": [
    "4. Crea un script que cuente el número de elementos más grandes que un determinado número dado por el usuario (supón una lista numérica)."
   ]
  },
  {
   "cell_type": "code",
   "execution_count": 18,
   "metadata": {},
   "outputs": [
    {
     "name": "stdout",
     "output_type": "stream",
     "text": [
      "3\n"
     ]
    }
   ],
   "source": [
    "numeros = [3, 4, 1, 5, 6, 2, 7, 1]\n",
    "numero_objetivo = 4\n",
    "\n",
    "contador = 0\n",
    "for num in numeros:\n",
    "    if num > numero_objetivo:\n",
    "        contador += 1\n",
    "\n",
    "print(contador)"
   ]
  },
  {
   "cell_type": "markdown",
   "metadata": {},
   "source": [
    "5. Crea un script dado un número introducido por el usuario o determinado al inicio del programa, realice la suma de aquellos números que sean divisibles por este."
   ]
  },
  {
   "cell_type": "code",
   "execution_count": 19,
   "metadata": {},
   "outputs": [
    {
     "name": "stdout",
     "output_type": "stream",
     "text": [
      "20\n"
     ]
    }
   ],
   "source": [
    "numeros = [3, 4, 1, 5, 6, 2, 7, 8]\n",
    "divisor = 2\n",
    "\n",
    "resultado = 0\n",
    "for num in numeros:\n",
    "    if num % divisor == 0:\n",
    "        resultado += num\n",
    "\n",
    "print(resultado)"
   ]
  },
  {
   "cell_type": "markdown",
   "metadata": {},
   "source": [
    "6. Escribe un script que pida un número al usuario y dada una lista encuentre el número más alto que es inferior al número introducido o determinado al inicio del programa."
   ]
  },
  {
   "cell_type": "code",
   "execution_count": 20,
   "metadata": {},
   "outputs": [
    {
     "name": "stdout",
     "output_type": "stream",
     "text": [
      "7\n"
     ]
    }
   ],
   "source": [
    "numeros = [3, 4, 1, 5, 6, 2, 7, 8]\n",
    "numero_objetivo = 8\n",
    "numeros.sort()\n",
    "\n",
    "for num in numeros:\n",
    "    if num < numero_objetivo:\n",
    "        resultado = num\n",
    "\n",
    "print(resultado)\n"
   ]
  },
  {
   "cell_type": "markdown",
   "metadata": {},
   "source": [
    "7. Crea un script que extraiga los elementos comunes entre dos listas."
   ]
  },
  {
   "cell_type": "code",
   "execution_count": 21,
   "metadata": {},
   "outputs": [
    {
     "name": "stdout",
     "output_type": "stream",
     "text": [
      "Los elementos comunes en ambas listas son:  [4, 5, 6]\n"
     ]
    }
   ],
   "source": [
    "lista1 = [1,2,3,4,5,6]\n",
    "lista2 = [4,5,6,7,8,9]\n",
    "comunes = []\n",
    "\n",
    "for elemento in lista1:\n",
    "    if elemento in lista2:\n",
    "        comunes.append(elemento)\n",
    "\n",
    "print(\"Los elementos comunes en ambas listas son: \", comunes)"
   ]
  },
  {
   "cell_type": "markdown",
   "metadata": {},
   "source": [
    "8. Crea un script que cuente el número de apariciones de un elemento de una lista en dicha lista.\n"
   ]
  },
  {
   "cell_type": "code",
   "execution_count": 22,
   "metadata": {},
   "outputs": [
    {
     "name": "stdout",
     "output_type": "stream",
     "text": [
      "2\n"
     ]
    }
   ],
   "source": [
    "numeros = [23, 65, 23]\n",
    "objectivo = 23\n",
    "print(numeros.count(objectivo))"
   ]
  },
  {
   "cell_type": "markdown",
   "metadata": {},
   "source": [
    "9. Escribe un programa que lea una lista de enteros y cree una nueva lista que contenga solo números positivos de la lista original."
   ]
  },
  {
   "cell_type": "code",
   "execution_count": 23,
   "metadata": {},
   "outputs": [
    {
     "name": "stdout",
     "output_type": "stream",
     "text": [
      "La lista original recorrida es:  [-1, -3, 2, 5, 7, -8, -1, 4, 6]\n",
      "De la lista recorrida, los numeros positivos son:  [2, 5, 7, 4, 6]\n",
      "De la lista recorrida, los numeros negativos son:  [-1, -3, -8, -1]\n"
     ]
    }
   ],
   "source": [
    "lista_original = [-1, -3, 2, 5, 7, -8, -1, 4, 6]\n",
    "lista_positivos = []\n",
    "lista_negativos = []\n",
    "\n",
    "for numero in lista_original:\n",
    "    if numero > 0:\n",
    "        lista_positivos.append(numero)\n",
    "    else:\n",
    "        lista_negativos.append(numero)\n",
    "\n",
    "print(\"La lista original recorrida es: \", lista_original)\n",
    "print(\"De la lista recorrida, los numeros positivos son: \", lista_positivos)\n",
    "print(\"De la lista recorrida, los numeros negativos son: \", lista_negativos)"
   ]
  },
  {
   "cell_type": "markdown",
   "metadata": {},
   "source": [
    "10. Crea un script que tome una lista de strings y cree una nueva lista que contenga el tamaño de los strings de la lista original."
   ]
  },
  {
   "cell_type": "code",
   "execution_count": 24,
   "metadata": {},
   "outputs": [
    {
     "name": "stdout",
     "output_type": "stream",
     "text": [
      "La longituda de los strings de la ['hola', 'estas', 'usando', 'Python'] es [4, 5, 6, 6]\n"
     ]
    }
   ],
   "source": [
    "lista_strings = [\"hola\", \"estas\", \"usando\", \"Python\"]\n",
    "lista_longitudes = []\n",
    "\n",
    "for string in lista_strings:\n",
    "    longitud = len(string)\n",
    "    lista_longitudes.append(longitud)\n",
    "\n",
    "print(\"La longituda de los strings de la\", lista_strings, \"es\", lista_longitudes)"
   ]
  },
  {
   "cell_type": "markdown",
   "metadata": {},
   "source": [
    "11. Crea un programa que dada una lista de strings, devuelva otra lista con los strings en mayúscula."
   ]
  },
  {
   "cell_type": "code",
   "execution_count": null,
   "metadata": {},
   "outputs": [
    {
     "name": "stdout",
     "output_type": "stream",
     "text": [
      "Las palabras en mayusculas de la lista de strings ['hola', 'estas', 'usando', 'Python'] es ['HOLA', 'ESTAS', 'USANDO', 'PYTHON']\n"
     ]
    }
   ],
   "source": [
    "lista_strings = [\"hola\", \"estas\", \"usando\", \"Python\"]\n",
    "lista_mayusculas = []\n",
    "\n",
    "for string in lista_strings:\n",
    "    lista_mayusculas.append(string.upper())\n",
    "\n",
    "print(\"Las palabras en mayusculas de la lista de strings\", lista_strings, \"es\", lista_mayusculas)"
   ]
  }
 ],
 "metadata": {
  "kernelspec": {
   "display_name": "base",
   "language": "python",
   "name": "python3"
  },
  "language_info": {
   "codemirror_mode": {
    "name": "ipython",
    "version": 3
   },
   "file_extension": ".py",
   "mimetype": "text/x-python",
   "name": "python",
   "nbconvert_exporter": "python",
   "pygments_lexer": "ipython3",
   "version": "3.12.9"
  }
 },
 "nbformat": 4,
 "nbformat_minor": 2
}
