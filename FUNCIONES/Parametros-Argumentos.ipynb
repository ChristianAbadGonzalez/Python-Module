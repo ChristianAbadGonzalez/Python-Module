{
 "cells": [
  {
   "cell_type": "markdown",
   "id": "d43e6aa8",
   "metadata": {},
   "source": [
    "### FAMILIARIZACIÓN CON EL USO DE PARAMETROS Y ARGUMENTOS"
   ]
  },
  {
   "cell_type": "markdown",
   "id": "2b05b77e",
   "metadata": {},
   "source": [
    "1. Define una función llamada \"saludar\" que tome un parámetro \"nombre\" y muestre un saludo personalizado."
   ]
  },
  {
   "cell_type": "code",
   "execution_count": 1,
   "id": "9f1cc648",
   "metadata": {},
   "outputs": [
    {
     "name": "stdout",
     "output_type": "stream",
     "text": [
      "Hola, Christian. Bienvenido al mundo de las funciones en Python!\n"
     ]
    }
   ],
   "source": [
    "def saludar(nombre):\n",
    "    print(f\"Hola, {nombre}. Bienvenido al mundo de las funciones en Python!\")\n",
    "\n",
    "saludar(\"Christian\")"
   ]
  },
  {
   "cell_type": "markdown",
   "id": "af66c449",
   "metadata": {},
   "source": [
    "2. Crea una función llamada \"suma\" que tome dos parámetros \"a\" y \"b\" e imprima la suma de ambos."
   ]
  },
  {
   "cell_type": "code",
   "execution_count": 2,
   "id": "2402965f",
   "metadata": {},
   "outputs": [
    {
     "name": "stdout",
     "output_type": "stream",
     "text": [
      "La suma de 5 y 10 es: 15\n"
     ]
    }
   ],
   "source": [
    "def suma(a, b):\n",
    "    valor_suma = a + b\n",
    "    print(f\"La suma de {a} y {b} es: {valor_suma}\")\n",
    "\n",
    "suma(5, 10)"
   ]
  },
  {
   "cell_type": "markdown",
   "id": "5239f4d9",
   "metadata": {},
   "source": [
    "3. Escribe una función llamada \"calcular_area_rectangulo\" que tome dos parámetros \"base\" y \"altura\" y calcule el área de un rectángulo."
   ]
  },
  {
   "cell_type": "code",
   "execution_count": 3,
   "id": "cffcf12b",
   "metadata": {},
   "outputs": [
    {
     "name": "stdout",
     "output_type": "stream",
     "text": [
      "El área del rectángulo es: 6\n"
     ]
    }
   ],
   "source": [
    "def calcular_area_rectangulo(base, altura):\n",
    "    area_rectangulo = base * altura\n",
    "    print(f\"El área del rectángulo es: {area_rectangulo}\")\n",
    "\n",
    "calcular_area_rectangulo(2, 3)\n"
   ]
  },
  {
   "cell_type": "markdown",
   "id": "6e1bfc93",
   "metadata": {},
   "source": [
    "4. Define una función llamada \"imprimir_lista\" que tome una lista como parámetro y la imprima en la consola."
   ]
  },
  {
   "cell_type": "code",
   "execution_count": 4,
   "id": "512f7eda",
   "metadata": {},
   "outputs": [
    {
     "name": "stdout",
     "output_type": "stream",
     "text": [
      "1\n",
      "2\n",
      "3\n",
      "4\n",
      "5\n",
      "6\n",
      "7\n"
     ]
    }
   ],
   "source": [
    "def imprimir_lista(lista):\n",
    "    for elemento in lista:\n",
    "        print(elemento)\n",
    "\n",
    "mi_lista = [1, 2, 3, 4, 5, 6, 7]\n",
    "imprimir_lista(mi_lista)"
   ]
  },
  {
   "cell_type": "markdown",
   "id": "6ed92d9b",
   "metadata": {},
   "source": [
    "5. Crea una función llamada \"es_par\" que tome un número como parámetro e imprima True si es par, o False si es impar."
   ]
  },
  {
   "cell_type": "code",
   "execution_count": 5,
   "id": "9a1ae59a",
   "metadata": {},
   "outputs": [
    {
     "name": "stdout",
     "output_type": "stream",
     "text": [
      "True 10 es par\n"
     ]
    }
   ],
   "source": [
    "def es_par(numero):\n",
    "    if numero % 2 == 0:\n",
    "        print(True, f\"{numero} es par\")\n",
    "    else:\n",
    "        print(False, f\"{numero} es impar\")\n",
    "\n",
    "es_par(10)"
   ]
  },
  {
   "cell_type": "markdown",
   "id": "729b3af4",
   "metadata": {},
   "source": [
    "6. Escribe una función llamada \"concatenar_strings\" que tome dos parámetros \"cadena1\" y “cadena2\" e imprima la concatenación de ambas cadenas."
   ]
  },
  {
   "cell_type": "code",
   "execution_count": 6,
   "id": "1813841b",
   "metadata": {},
   "outputs": [
    {
     "name": "stdout",
     "output_type": "stream",
     "text": [
      "Hola Mundo\n"
     ]
    }
   ],
   "source": [
    "def concatenar_strings(cadena1, cadena2):\n",
    "    concatenacion = cadena1 + cadena2\n",
    "    print(concatenacion)\n",
    "\n",
    "concatenar_strings(\"Hola\", \" Mundo\")\n"
   ]
  },
  {
   "cell_type": "markdown",
   "id": "92b45b30",
   "metadata": {},
   "source": [
    "7. Define una función llamada \"obtener_maximo\" que tome una lista de números como parámetro y devuelva el número máximo de la lista."
   ]
  },
  {
   "cell_type": "code",
   "execution_count": 2,
   "id": "9e88c259",
   "metadata": {},
   "outputs": [
    {
     "name": "stdout",
     "output_type": "stream",
     "text": [
      "El número máximo de la lista es: 16\n",
      "El número máximo de la lista es: 160\n"
     ]
    }
   ],
   "source": [
    "def obtener_maximo(lista_numeros):\n",
    "    maximo = max(lista_numeros)\n",
    "    print(f\"El número máximo de la lista es: {maximo}\")\n",
    "\n",
    "mi_lista = [10, 9, 14, 7, 8, 14, 16]\n",
    "otra_lista = [110, 99, 4, 37, 48, 114, 160]\n",
    "              \n",
    "obtener_maximo(mi_lista)\n",
    "obtener_maximo(otra_lista)"
   ]
  },
  {
   "cell_type": "markdown",
   "id": "ba788331",
   "metadata": {},
   "source": [
    "8. Crea una función llamada \"convertir_fahrenheit_a_celsius\" que tome un parámetro \"fahrenheit\" y devuelva su equivalente en grados Celsius."
   ]
  },
  {
   "cell_type": "code",
   "execution_count": 4,
   "id": "fe2a4ace",
   "metadata": {},
   "outputs": [
    {
     "name": "stdout",
     "output_type": "stream",
     "text": [
      "32°F son 0.0°C\n",
      "212°F son 100.0°C\n"
     ]
    }
   ],
   "source": [
    "def fahrenheit_celsius(fahrenheit):\n",
    "    celsius = (fahrenheit - 32) * (5/9)\n",
    "    print(f\"{fahrenheit}°F son {celsius}°C\")\n",
    "\n",
    "fahrenheit_celsius(32)\n",
    "fahrenheit_celsius(212)"
   ]
  },
  {
   "cell_type": "markdown",
   "id": "b480af31",
   "metadata": {},
   "source": [
    "9. Escribe una función llamada \"calcular_edad\" que tome dos parámetros: \"año_actual\" y \"año_nacimiento\" y calcule la edad de una persona."
   ]
  },
  {
   "cell_type": "code",
   "execution_count": 5,
   "id": "9e053158",
   "metadata": {},
   "outputs": [
    {
     "name": "stdout",
     "output_type": "stream",
     "text": [
      "Tu edad es: 27 años\n"
     ]
    }
   ],
   "source": [
    "def calcular_edad(año_actual, año_nacimiento):\n",
    "    edad = año_actual - año_nacimiento\n",
    "    print(f\"Tu edad es: {edad} años\")\n",
    "\n",
    "calcular_edad(2025, 1998)"
   ]
  },
  {
   "cell_type": "markdown",
   "id": "8ed626d6",
   "metadata": {},
   "source": [
    "10. Define una función llamada \"es_divisible\" que tome dos parámetros \"num\" y \"divisor\" e imprima True si \"num\" es divisible por \"divisor\", o False si no lo es."
   ]
  },
  {
   "cell_type": "code",
   "execution_count": 8,
   "id": "4232a06e",
   "metadata": {},
   "outputs": [
    {
     "name": "stdout",
     "output_type": "stream",
     "text": [
      "True El numero 342 es divisible por el 2\n"
     ]
    }
   ],
   "source": [
    "def es_divisible(num, divisor):\n",
    "    if num % divisor == 0:\n",
    "        print(True, f\"El numero {num} es divisible por el {divisor}\")\n",
    "    else:\n",
    "        print(False, f\"El numero {num} no es divisible por el {divisor}\")\n",
    "\n",
    "es_divisible(342,2)"
   ]
  },
  {
   "cell_type": "markdown",
   "id": "ad9196ed",
   "metadata": {},
   "source": [
    "11. Crea una función llamada \"mostrar_info_persona\" que tome tres argumentos de palabra clave: \"nombre\", \"edad\" y \"ciudad\".  \n",
    "La función debe imprimir en la consola la información de una persona en un formato legible."
   ]
  },
  {
   "cell_type": "code",
   "execution_count": null,
   "id": "897d5213",
   "metadata": {},
   "outputs": [
    {
     "name": "stdout",
     "output_type": "stream",
     "text": [
      "Nombre: Christian, Edad: 27, Ciudad: Madrid\n"
     ]
    }
   ],
   "source": [
    "def info_persona(nombre, edad, ciudad):\n",
    "    print(f\"Nombre: {nombre}, Edad: {edad}, Ciudad: {ciudad}\")\n",
    "\n",
    "info_persona(\"Christian\", 27, \"Madrid\")\n"
   ]
  },
  {
   "cell_type": "markdown",
   "id": "e16dbcb0",
   "metadata": {},
   "source": [
    "12. Escribe una función llamada \"calcular_promedio\" que tome una lista de números como parámetro y calcule el promedio de esos números.  \n",
    "Si no se proporciona una lista, debe usar una lista vacía por defecto."
   ]
  },
  {
   "cell_type": "code",
   "execution_count": 10,
   "id": "f05464cb",
   "metadata": {},
   "outputs": [
    {
     "name": "stdout",
     "output_type": "stream",
     "text": [
      "El promedio de la lista es: 3.0\n"
     ]
    }
   ],
   "source": [
    "def calcular_promedio(lista_numeros = []):\n",
    "    if len(lista_numeros) == 0:\n",
    "        print(\"La lista está vacía\")\n",
    "    else:\n",
    "        promedio = sum(lista_numeros) / len(lista_numeros)\n",
    "        print(f\"El promedio de la lista es: {promedio}\")\n",
    "\n",
    "calcular_promedio([1, 2, 3, 4, 5])"
   ]
  },
  {
   "cell_type": "markdown",
   "id": "76378708",
   "metadata": {},
   "source": [
    "13. Crea una función llamada \"calcular_potencia\" que tome dos parámetros \"base\" y \"exponente\", y calcule la potencia de la base elevada al exponente.  \n",
    "Utiliza 2 como valor por defecto para el exponente."
   ]
  },
  {
   "cell_type": "code",
   "execution_count": 12,
   "id": "2fd6a8dd",
   "metadata": {},
   "outputs": [
    {
     "name": "stdout",
     "output_type": "stream",
     "text": [
      "El resultado de elevar la base 2 al exponente 10 es: 1024\n"
     ]
    }
   ],
   "source": [
    "def calcular_potencia(base, exponente = 2):\n",
    "    potencia = base ** exponente\n",
    "    print(f\"El resultado de elevar la base {base} al exponente {exponente} es: {potencia}\")\n",
    "\n",
    "calcular_potencia(2,10)\n"
   ]
  },
  {
   "cell_type": "markdown",
   "id": "4b00c087",
   "metadata": {},
   "source": [
    "14. Define una función llamada \"imprimir_info_alumno\" que tome un argumento posicional \"nombre\" (y sin valor por defecto)  \n",
    "y varios argumentos de palabra clave: \"edad\", \"curso\" y “promedio\" (puedes ponerles como valor por defecto None).  \n",
    "La función debe imprimir la información del alumno en un formato legible."
   ]
  },
  {
   "cell_type": "code",
   "execution_count": 15,
   "id": "153a317b",
   "metadata": {},
   "outputs": [
    {
     "name": "stdout",
     "output_type": "stream",
     "text": [
      "Nombre: Christian\n",
      "Edad: 27\n",
      "Curso: ConquerBlocks - Python Avanzado\n",
      "Nota final: 10\n"
     ]
    }
   ],
   "source": [
    "def info_alumno(nombre, edad = None, curso = None, nota_final = None):\n",
    "    print(f\"Nombre: {nombre}\")\n",
    "    if edad is not None:\n",
    "        print(f\"Edad: {edad}\")\n",
    "    if curso is not None:\n",
    "        print(f\"Curso: {curso}\")\n",
    "    if nota_final is not None:\n",
    "        print(f\"Nota final: {nota_final}\")\n",
    "\n",
    "info_alumno(\"Christian\", 27, \"ConquerBlocks - Python Avanzado\", 10)"
   ]
  }
 ],
 "metadata": {
  "kernelspec": {
   "display_name": "base",
   "language": "python",
   "name": "python3"
  },
  "language_info": {
   "codemirror_mode": {
    "name": "ipython",
    "version": 3
   },
   "file_extension": ".py",
   "mimetype": "text/x-python",
   "name": "python",
   "nbconvert_exporter": "python",
   "pygments_lexer": "ipython3",
   "version": "3.12.9"
  }
 },
 "nbformat": 4,
 "nbformat_minor": 5
}
